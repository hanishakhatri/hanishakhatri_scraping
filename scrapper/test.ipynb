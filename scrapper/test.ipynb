{
 "cells": [
  {
   "cell_type": "code",
   "execution_count": 51,
   "metadata": {},
   "outputs": [
    {
     "ename": "ConnectionError",
     "evalue": "HTTPSConnectionPool(host='foreignfortune.com', port=443): Max retries exceeded with url: / (Caused by NameResolutionError(\"<urllib3.connection.HTTPSConnection object at 0x1067c3ca0>: Failed to resolve 'foreignfortune.com' ([Errno 8] nodename nor servname provided, or not known)\"))",
     "output_type": "error",
     "traceback": [
      "\u001b[0;31m---------------------------------------------------------------------------\u001b[0m",
      "\u001b[0;31mgaierror\u001b[0m                                  Traceback (most recent call last)",
      "File \u001b[0;32m~/Library/Python/3.9/lib/python/site-packages/urllib3/connection.py:196\u001b[0m, in \u001b[0;36mHTTPConnection._new_conn\u001b[0;34m(self)\u001b[0m\n\u001b[1;32m    195\u001b[0m \u001b[38;5;28;01mtry\u001b[39;00m:\n\u001b[0;32m--> 196\u001b[0m     sock \u001b[38;5;241m=\u001b[39m \u001b[43mconnection\u001b[49m\u001b[38;5;241;43m.\u001b[39;49m\u001b[43mcreate_connection\u001b[49m\u001b[43m(\u001b[49m\n\u001b[1;32m    197\u001b[0m \u001b[43m        \u001b[49m\u001b[43m(\u001b[49m\u001b[38;5;28;43mself\u001b[39;49m\u001b[38;5;241;43m.\u001b[39;49m\u001b[43m_dns_host\u001b[49m\u001b[43m,\u001b[49m\u001b[43m \u001b[49m\u001b[38;5;28;43mself\u001b[39;49m\u001b[38;5;241;43m.\u001b[39;49m\u001b[43mport\u001b[49m\u001b[43m)\u001b[49m\u001b[43m,\u001b[49m\n\u001b[1;32m    198\u001b[0m \u001b[43m        \u001b[49m\u001b[38;5;28;43mself\u001b[39;49m\u001b[38;5;241;43m.\u001b[39;49m\u001b[43mtimeout\u001b[49m\u001b[43m,\u001b[49m\n\u001b[1;32m    199\u001b[0m \u001b[43m        \u001b[49m\u001b[43msource_address\u001b[49m\u001b[38;5;241;43m=\u001b[39;49m\u001b[38;5;28;43mself\u001b[39;49m\u001b[38;5;241;43m.\u001b[39;49m\u001b[43msource_address\u001b[49m\u001b[43m,\u001b[49m\n\u001b[1;32m    200\u001b[0m \u001b[43m        \u001b[49m\u001b[43msocket_options\u001b[49m\u001b[38;5;241;43m=\u001b[39;49m\u001b[38;5;28;43mself\u001b[39;49m\u001b[38;5;241;43m.\u001b[39;49m\u001b[43msocket_options\u001b[49m\u001b[43m,\u001b[49m\n\u001b[1;32m    201\u001b[0m \u001b[43m    \u001b[49m\u001b[43m)\u001b[49m\n\u001b[1;32m    202\u001b[0m \u001b[38;5;28;01mexcept\u001b[39;00m socket\u001b[38;5;241m.\u001b[39mgaierror \u001b[38;5;28;01mas\u001b[39;00m e:\n",
      "File \u001b[0;32m~/Library/Python/3.9/lib/python/site-packages/urllib3/util/connection.py:60\u001b[0m, in \u001b[0;36mcreate_connection\u001b[0;34m(address, timeout, source_address, socket_options)\u001b[0m\n\u001b[1;32m     58\u001b[0m     \u001b[38;5;28;01mraise\u001b[39;00m LocationParseError(\u001b[38;5;124mf\u001b[39m\u001b[38;5;124m\"\u001b[39m\u001b[38;5;124m'\u001b[39m\u001b[38;5;132;01m{\u001b[39;00mhost\u001b[38;5;132;01m}\u001b[39;00m\u001b[38;5;124m'\u001b[39m\u001b[38;5;124m, label empty or too long\u001b[39m\u001b[38;5;124m\"\u001b[39m) \u001b[38;5;28;01mfrom\u001b[39;00m \u001b[38;5;28;01mNone\u001b[39;00m\n\u001b[0;32m---> 60\u001b[0m \u001b[38;5;28;01mfor\u001b[39;00m res \u001b[38;5;129;01min\u001b[39;00m \u001b[43msocket\u001b[49m\u001b[38;5;241;43m.\u001b[39;49m\u001b[43mgetaddrinfo\u001b[49m\u001b[43m(\u001b[49m\u001b[43mhost\u001b[49m\u001b[43m,\u001b[49m\u001b[43m \u001b[49m\u001b[43mport\u001b[49m\u001b[43m,\u001b[49m\u001b[43m \u001b[49m\u001b[43mfamily\u001b[49m\u001b[43m,\u001b[49m\u001b[43m \u001b[49m\u001b[43msocket\u001b[49m\u001b[38;5;241;43m.\u001b[39;49m\u001b[43mSOCK_STREAM\u001b[49m\u001b[43m)\u001b[49m:\n\u001b[1;32m     61\u001b[0m     af, socktype, proto, canonname, sa \u001b[38;5;241m=\u001b[39m res\n",
      "File \u001b[0;32m/Library/Developer/CommandLineTools/Library/Frameworks/Python3.framework/Versions/3.9/lib/python3.9/socket.py:953\u001b[0m, in \u001b[0;36mgetaddrinfo\u001b[0;34m(host, port, family, type, proto, flags)\u001b[0m\n\u001b[1;32m    952\u001b[0m addrlist \u001b[38;5;241m=\u001b[39m []\n\u001b[0;32m--> 953\u001b[0m \u001b[38;5;28;01mfor\u001b[39;00m res \u001b[38;5;129;01min\u001b[39;00m \u001b[43m_socket\u001b[49m\u001b[38;5;241;43m.\u001b[39;49m\u001b[43mgetaddrinfo\u001b[49m\u001b[43m(\u001b[49m\u001b[43mhost\u001b[49m\u001b[43m,\u001b[49m\u001b[43m \u001b[49m\u001b[43mport\u001b[49m\u001b[43m,\u001b[49m\u001b[43m \u001b[49m\u001b[43mfamily\u001b[49m\u001b[43m,\u001b[49m\u001b[43m \u001b[49m\u001b[38;5;28;43mtype\u001b[39;49m\u001b[43m,\u001b[49m\u001b[43m \u001b[49m\u001b[43mproto\u001b[49m\u001b[43m,\u001b[49m\u001b[43m \u001b[49m\u001b[43mflags\u001b[49m\u001b[43m)\u001b[49m:\n\u001b[1;32m    954\u001b[0m     af, socktype, proto, canonname, sa \u001b[38;5;241m=\u001b[39m res\n",
      "\u001b[0;31mgaierror\u001b[0m: [Errno 8] nodename nor servname provided, or not known",
      "\nThe above exception was the direct cause of the following exception:\n",
      "\u001b[0;31mNameResolutionError\u001b[0m                       Traceback (most recent call last)",
      "File \u001b[0;32m~/Library/Python/3.9/lib/python/site-packages/urllib3/connectionpool.py:789\u001b[0m, in \u001b[0;36mHTTPConnectionPool.urlopen\u001b[0;34m(self, method, url, body, headers, retries, redirect, assert_same_host, timeout, pool_timeout, release_conn, chunked, body_pos, preload_content, decode_content, **response_kw)\u001b[0m\n\u001b[1;32m    788\u001b[0m \u001b[38;5;66;03m# Make the request on the HTTPConnection object\u001b[39;00m\n\u001b[0;32m--> 789\u001b[0m response \u001b[38;5;241m=\u001b[39m \u001b[38;5;28;43mself\u001b[39;49m\u001b[38;5;241;43m.\u001b[39;49m\u001b[43m_make_request\u001b[49m\u001b[43m(\u001b[49m\n\u001b[1;32m    790\u001b[0m \u001b[43m    \u001b[49m\u001b[43mconn\u001b[49m\u001b[43m,\u001b[49m\n\u001b[1;32m    791\u001b[0m \u001b[43m    \u001b[49m\u001b[43mmethod\u001b[49m\u001b[43m,\u001b[49m\n\u001b[1;32m    792\u001b[0m \u001b[43m    \u001b[49m\u001b[43murl\u001b[49m\u001b[43m,\u001b[49m\n\u001b[1;32m    793\u001b[0m \u001b[43m    \u001b[49m\u001b[43mtimeout\u001b[49m\u001b[38;5;241;43m=\u001b[39;49m\u001b[43mtimeout_obj\u001b[49m\u001b[43m,\u001b[49m\n\u001b[1;32m    794\u001b[0m \u001b[43m    \u001b[49m\u001b[43mbody\u001b[49m\u001b[38;5;241;43m=\u001b[39;49m\u001b[43mbody\u001b[49m\u001b[43m,\u001b[49m\n\u001b[1;32m    795\u001b[0m \u001b[43m    \u001b[49m\u001b[43mheaders\u001b[49m\u001b[38;5;241;43m=\u001b[39;49m\u001b[43mheaders\u001b[49m\u001b[43m,\u001b[49m\n\u001b[1;32m    796\u001b[0m \u001b[43m    \u001b[49m\u001b[43mchunked\u001b[49m\u001b[38;5;241;43m=\u001b[39;49m\u001b[43mchunked\u001b[49m\u001b[43m,\u001b[49m\n\u001b[1;32m    797\u001b[0m \u001b[43m    \u001b[49m\u001b[43mretries\u001b[49m\u001b[38;5;241;43m=\u001b[39;49m\u001b[43mretries\u001b[49m\u001b[43m,\u001b[49m\n\u001b[1;32m    798\u001b[0m \u001b[43m    \u001b[49m\u001b[43mresponse_conn\u001b[49m\u001b[38;5;241;43m=\u001b[39;49m\u001b[43mresponse_conn\u001b[49m\u001b[43m,\u001b[49m\n\u001b[1;32m    799\u001b[0m \u001b[43m    \u001b[49m\u001b[43mpreload_content\u001b[49m\u001b[38;5;241;43m=\u001b[39;49m\u001b[43mpreload_content\u001b[49m\u001b[43m,\u001b[49m\n\u001b[1;32m    800\u001b[0m \u001b[43m    \u001b[49m\u001b[43mdecode_content\u001b[49m\u001b[38;5;241;43m=\u001b[39;49m\u001b[43mdecode_content\u001b[49m\u001b[43m,\u001b[49m\n\u001b[1;32m    801\u001b[0m \u001b[43m    \u001b[49m\u001b[38;5;241;43m*\u001b[39;49m\u001b[38;5;241;43m*\u001b[39;49m\u001b[43mresponse_kw\u001b[49m\u001b[43m,\u001b[49m\n\u001b[1;32m    802\u001b[0m \u001b[43m\u001b[49m\u001b[43m)\u001b[49m\n\u001b[1;32m    804\u001b[0m \u001b[38;5;66;03m# Everything went great!\u001b[39;00m\n",
      "File \u001b[0;32m~/Library/Python/3.9/lib/python/site-packages/urllib3/connectionpool.py:490\u001b[0m, in \u001b[0;36mHTTPConnectionPool._make_request\u001b[0;34m(self, conn, method, url, body, headers, retries, timeout, chunked, response_conn, preload_content, decode_content, enforce_content_length)\u001b[0m\n\u001b[1;32m    489\u001b[0m         new_e \u001b[38;5;241m=\u001b[39m _wrap_proxy_error(new_e, conn\u001b[38;5;241m.\u001b[39mproxy\u001b[38;5;241m.\u001b[39mscheme)\n\u001b[0;32m--> 490\u001b[0m     \u001b[38;5;28;01mraise\u001b[39;00m new_e\n\u001b[1;32m    492\u001b[0m \u001b[38;5;66;03m# conn.request() calls http.client.*.request, not the method in\u001b[39;00m\n\u001b[1;32m    493\u001b[0m \u001b[38;5;66;03m# urllib3.request. It also calls makefile (recv) on the socket.\u001b[39;00m\n",
      "File \u001b[0;32m~/Library/Python/3.9/lib/python/site-packages/urllib3/connectionpool.py:466\u001b[0m, in \u001b[0;36mHTTPConnectionPool._make_request\u001b[0;34m(self, conn, method, url, body, headers, retries, timeout, chunked, response_conn, preload_content, decode_content, enforce_content_length)\u001b[0m\n\u001b[1;32m    465\u001b[0m \u001b[38;5;28;01mtry\u001b[39;00m:\n\u001b[0;32m--> 466\u001b[0m     \u001b[38;5;28;43mself\u001b[39;49m\u001b[38;5;241;43m.\u001b[39;49m\u001b[43m_validate_conn\u001b[49m\u001b[43m(\u001b[49m\u001b[43mconn\u001b[49m\u001b[43m)\u001b[49m\n\u001b[1;32m    467\u001b[0m \u001b[38;5;28;01mexcept\u001b[39;00m (SocketTimeout, BaseSSLError) \u001b[38;5;28;01mas\u001b[39;00m e:\n",
      "File \u001b[0;32m~/Library/Python/3.9/lib/python/site-packages/urllib3/connectionpool.py:1095\u001b[0m, in \u001b[0;36mHTTPSConnectionPool._validate_conn\u001b[0;34m(self, conn)\u001b[0m\n\u001b[1;32m   1094\u001b[0m \u001b[38;5;28;01mif\u001b[39;00m conn\u001b[38;5;241m.\u001b[39mis_closed:\n\u001b[0;32m-> 1095\u001b[0m     \u001b[43mconn\u001b[49m\u001b[38;5;241;43m.\u001b[39;49m\u001b[43mconnect\u001b[49m\u001b[43m(\u001b[49m\u001b[43m)\u001b[49m\n\u001b[1;32m   1097\u001b[0m \u001b[38;5;66;03m# TODO revise this, see https://github.com/urllib3/urllib3/issues/2791\u001b[39;00m\n",
      "File \u001b[0;32m~/Library/Python/3.9/lib/python/site-packages/urllib3/connection.py:615\u001b[0m, in \u001b[0;36mHTTPSConnection.connect\u001b[0;34m(self)\u001b[0m\n\u001b[1;32m    614\u001b[0m sock: socket\u001b[38;5;241m.\u001b[39msocket \u001b[38;5;241m|\u001b[39m ssl\u001b[38;5;241m.\u001b[39mSSLSocket\n\u001b[0;32m--> 615\u001b[0m \u001b[38;5;28mself\u001b[39m\u001b[38;5;241m.\u001b[39msock \u001b[38;5;241m=\u001b[39m sock \u001b[38;5;241m=\u001b[39m \u001b[38;5;28;43mself\u001b[39;49m\u001b[38;5;241;43m.\u001b[39;49m\u001b[43m_new_conn\u001b[49m\u001b[43m(\u001b[49m\u001b[43m)\u001b[49m\n\u001b[1;32m    616\u001b[0m server_hostname: \u001b[38;5;28mstr\u001b[39m \u001b[38;5;241m=\u001b[39m \u001b[38;5;28mself\u001b[39m\u001b[38;5;241m.\u001b[39mhost\n",
      "File \u001b[0;32m~/Library/Python/3.9/lib/python/site-packages/urllib3/connection.py:203\u001b[0m, in \u001b[0;36mHTTPConnection._new_conn\u001b[0;34m(self)\u001b[0m\n\u001b[1;32m    202\u001b[0m \u001b[38;5;28;01mexcept\u001b[39;00m socket\u001b[38;5;241m.\u001b[39mgaierror \u001b[38;5;28;01mas\u001b[39;00m e:\n\u001b[0;32m--> 203\u001b[0m     \u001b[38;5;28;01mraise\u001b[39;00m NameResolutionError(\u001b[38;5;28mself\u001b[39m\u001b[38;5;241m.\u001b[39mhost, \u001b[38;5;28mself\u001b[39m, e) \u001b[38;5;28;01mfrom\u001b[39;00m \u001b[38;5;21;01me\u001b[39;00m\n\u001b[1;32m    204\u001b[0m \u001b[38;5;28;01mexcept\u001b[39;00m SocketTimeout \u001b[38;5;28;01mas\u001b[39;00m e:\n",
      "\u001b[0;31mNameResolutionError\u001b[0m: <urllib3.connection.HTTPSConnection object at 0x1067c3ca0>: Failed to resolve 'foreignfortune.com' ([Errno 8] nodename nor servname provided, or not known)",
      "\nThe above exception was the direct cause of the following exception:\n",
      "\u001b[0;31mMaxRetryError\u001b[0m                             Traceback (most recent call last)",
      "File \u001b[0;32m~/Library/Python/3.9/lib/python/site-packages/requests/adapters.py:667\u001b[0m, in \u001b[0;36mHTTPAdapter.send\u001b[0;34m(self, request, stream, timeout, verify, cert, proxies)\u001b[0m\n\u001b[1;32m    666\u001b[0m \u001b[38;5;28;01mtry\u001b[39;00m:\n\u001b[0;32m--> 667\u001b[0m     resp \u001b[38;5;241m=\u001b[39m \u001b[43mconn\u001b[49m\u001b[38;5;241;43m.\u001b[39;49m\u001b[43murlopen\u001b[49m\u001b[43m(\u001b[49m\n\u001b[1;32m    668\u001b[0m \u001b[43m        \u001b[49m\u001b[43mmethod\u001b[49m\u001b[38;5;241;43m=\u001b[39;49m\u001b[43mrequest\u001b[49m\u001b[38;5;241;43m.\u001b[39;49m\u001b[43mmethod\u001b[49m\u001b[43m,\u001b[49m\n\u001b[1;32m    669\u001b[0m \u001b[43m        \u001b[49m\u001b[43murl\u001b[49m\u001b[38;5;241;43m=\u001b[39;49m\u001b[43murl\u001b[49m\u001b[43m,\u001b[49m\n\u001b[1;32m    670\u001b[0m \u001b[43m        \u001b[49m\u001b[43mbody\u001b[49m\u001b[38;5;241;43m=\u001b[39;49m\u001b[43mrequest\u001b[49m\u001b[38;5;241;43m.\u001b[39;49m\u001b[43mbody\u001b[49m\u001b[43m,\u001b[49m\n\u001b[1;32m    671\u001b[0m \u001b[43m        \u001b[49m\u001b[43mheaders\u001b[49m\u001b[38;5;241;43m=\u001b[39;49m\u001b[43mrequest\u001b[49m\u001b[38;5;241;43m.\u001b[39;49m\u001b[43mheaders\u001b[49m\u001b[43m,\u001b[49m\n\u001b[1;32m    672\u001b[0m \u001b[43m        \u001b[49m\u001b[43mredirect\u001b[49m\u001b[38;5;241;43m=\u001b[39;49m\u001b[38;5;28;43;01mFalse\u001b[39;49;00m\u001b[43m,\u001b[49m\n\u001b[1;32m    673\u001b[0m \u001b[43m        \u001b[49m\u001b[43massert_same_host\u001b[49m\u001b[38;5;241;43m=\u001b[39;49m\u001b[38;5;28;43;01mFalse\u001b[39;49;00m\u001b[43m,\u001b[49m\n\u001b[1;32m    674\u001b[0m \u001b[43m        \u001b[49m\u001b[43mpreload_content\u001b[49m\u001b[38;5;241;43m=\u001b[39;49m\u001b[38;5;28;43;01mFalse\u001b[39;49;00m\u001b[43m,\u001b[49m\n\u001b[1;32m    675\u001b[0m \u001b[43m        \u001b[49m\u001b[43mdecode_content\u001b[49m\u001b[38;5;241;43m=\u001b[39;49m\u001b[38;5;28;43;01mFalse\u001b[39;49;00m\u001b[43m,\u001b[49m\n\u001b[1;32m    676\u001b[0m \u001b[43m        \u001b[49m\u001b[43mretries\u001b[49m\u001b[38;5;241;43m=\u001b[39;49m\u001b[38;5;28;43mself\u001b[39;49m\u001b[38;5;241;43m.\u001b[39;49m\u001b[43mmax_retries\u001b[49m\u001b[43m,\u001b[49m\n\u001b[1;32m    677\u001b[0m \u001b[43m        \u001b[49m\u001b[43mtimeout\u001b[49m\u001b[38;5;241;43m=\u001b[39;49m\u001b[43mtimeout\u001b[49m\u001b[43m,\u001b[49m\n\u001b[1;32m    678\u001b[0m \u001b[43m        \u001b[49m\u001b[43mchunked\u001b[49m\u001b[38;5;241;43m=\u001b[39;49m\u001b[43mchunked\u001b[49m\u001b[43m,\u001b[49m\n\u001b[1;32m    679\u001b[0m \u001b[43m    \u001b[49m\u001b[43m)\u001b[49m\n\u001b[1;32m    681\u001b[0m \u001b[38;5;28;01mexcept\u001b[39;00m (ProtocolError, \u001b[38;5;167;01mOSError\u001b[39;00m) \u001b[38;5;28;01mas\u001b[39;00m err:\n",
      "File \u001b[0;32m~/Library/Python/3.9/lib/python/site-packages/urllib3/connectionpool.py:843\u001b[0m, in \u001b[0;36mHTTPConnectionPool.urlopen\u001b[0;34m(self, method, url, body, headers, retries, redirect, assert_same_host, timeout, pool_timeout, release_conn, chunked, body_pos, preload_content, decode_content, **response_kw)\u001b[0m\n\u001b[1;32m    841\u001b[0m     new_e \u001b[38;5;241m=\u001b[39m ProtocolError(\u001b[38;5;124m\"\u001b[39m\u001b[38;5;124mConnection aborted.\u001b[39m\u001b[38;5;124m\"\u001b[39m, new_e)\n\u001b[0;32m--> 843\u001b[0m retries \u001b[38;5;241m=\u001b[39m \u001b[43mretries\u001b[49m\u001b[38;5;241;43m.\u001b[39;49m\u001b[43mincrement\u001b[49m\u001b[43m(\u001b[49m\n\u001b[1;32m    844\u001b[0m \u001b[43m    \u001b[49m\u001b[43mmethod\u001b[49m\u001b[43m,\u001b[49m\u001b[43m \u001b[49m\u001b[43murl\u001b[49m\u001b[43m,\u001b[49m\u001b[43m \u001b[49m\u001b[43merror\u001b[49m\u001b[38;5;241;43m=\u001b[39;49m\u001b[43mnew_e\u001b[49m\u001b[43m,\u001b[49m\u001b[43m \u001b[49m\u001b[43m_pool\u001b[49m\u001b[38;5;241;43m=\u001b[39;49m\u001b[38;5;28;43mself\u001b[39;49m\u001b[43m,\u001b[49m\u001b[43m \u001b[49m\u001b[43m_stacktrace\u001b[49m\u001b[38;5;241;43m=\u001b[39;49m\u001b[43msys\u001b[49m\u001b[38;5;241;43m.\u001b[39;49m\u001b[43mexc_info\u001b[49m\u001b[43m(\u001b[49m\u001b[43m)\u001b[49m\u001b[43m[\u001b[49m\u001b[38;5;241;43m2\u001b[39;49m\u001b[43m]\u001b[49m\n\u001b[1;32m    845\u001b[0m \u001b[43m\u001b[49m\u001b[43m)\u001b[49m\n\u001b[1;32m    846\u001b[0m retries\u001b[38;5;241m.\u001b[39msleep()\n",
      "File \u001b[0;32m~/Library/Python/3.9/lib/python/site-packages/urllib3/util/retry.py:519\u001b[0m, in \u001b[0;36mRetry.increment\u001b[0;34m(self, method, url, response, error, _pool, _stacktrace)\u001b[0m\n\u001b[1;32m    518\u001b[0m     reason \u001b[38;5;241m=\u001b[39m error \u001b[38;5;129;01mor\u001b[39;00m ResponseError(cause)\n\u001b[0;32m--> 519\u001b[0m     \u001b[38;5;28;01mraise\u001b[39;00m MaxRetryError(_pool, url, reason) \u001b[38;5;28;01mfrom\u001b[39;00m \u001b[38;5;21;01mreason\u001b[39;00m  \u001b[38;5;66;03m# type: ignore[arg-type]\u001b[39;00m\n\u001b[1;32m    521\u001b[0m log\u001b[38;5;241m.\u001b[39mdebug(\u001b[38;5;124m\"\u001b[39m\u001b[38;5;124mIncremented Retry for (url=\u001b[39m\u001b[38;5;124m'\u001b[39m\u001b[38;5;132;01m%s\u001b[39;00m\u001b[38;5;124m'\u001b[39m\u001b[38;5;124m): \u001b[39m\u001b[38;5;132;01m%r\u001b[39;00m\u001b[38;5;124m\"\u001b[39m, url, new_retry)\n",
      "\u001b[0;31mMaxRetryError\u001b[0m: HTTPSConnectionPool(host='foreignfortune.com', port=443): Max retries exceeded with url: / (Caused by NameResolutionError(\"<urllib3.connection.HTTPSConnection object at 0x1067c3ca0>: Failed to resolve 'foreignfortune.com' ([Errno 8] nodename nor servname provided, or not known)\"))",
      "\nDuring handling of the above exception, another exception occurred:\n",
      "\u001b[0;31mConnectionError\u001b[0m                           Traceback (most recent call last)",
      "Cell \u001b[0;32mIn[51], line 30\u001b[0m\n\u001b[1;32m     27\u001b[0m     \u001b[38;5;28;01mreturn\u001b[39;00m urls \n\u001b[1;32m     29\u001b[0m \u001b[38;5;66;03m# Run the scraper\u001b[39;00m\n\u001b[0;32m---> 30\u001b[0m urls  \u001b[38;5;241m=\u001b[39m \u001b[43mscrape_foreign_fortune_urls\u001b[49m\u001b[43m(\u001b[49m\u001b[43m)\u001b[49m\n",
      "Cell \u001b[0;32mIn[51], line 9\u001b[0m, in \u001b[0;36mscrape_foreign_fortune_urls\u001b[0;34m()\u001b[0m\n\u001b[1;32m      6\u001b[0m base_url \u001b[38;5;241m=\u001b[39m \u001b[38;5;124m\"\u001b[39m\u001b[38;5;124mhttps://foreignfortune.com/\u001b[39m\u001b[38;5;124m\"\u001b[39m\n\u001b[1;32m      8\u001b[0m \u001b[38;5;66;03m# Send a GET request to the website\u001b[39;00m\n\u001b[0;32m----> 9\u001b[0m response \u001b[38;5;241m=\u001b[39m \u001b[43mrequests\u001b[49m\u001b[38;5;241;43m.\u001b[39;49m\u001b[43mget\u001b[49m\u001b[43m(\u001b[49m\u001b[43mbase_url\u001b[49m\u001b[43m)\u001b[49m\n\u001b[1;32m     11\u001b[0m \u001b[38;5;66;03m# Parse the HTML content\u001b[39;00m\n\u001b[1;32m     12\u001b[0m soup \u001b[38;5;241m=\u001b[39m BeautifulSoup(response\u001b[38;5;241m.\u001b[39mcontent, \u001b[38;5;124m'\u001b[39m\u001b[38;5;124mhtml.parser\u001b[39m\u001b[38;5;124m'\u001b[39m)\n",
      "File \u001b[0;32m~/Library/Python/3.9/lib/python/site-packages/requests/api.py:73\u001b[0m, in \u001b[0;36mget\u001b[0;34m(url, params, **kwargs)\u001b[0m\n\u001b[1;32m     62\u001b[0m \u001b[38;5;28;01mdef\u001b[39;00m \u001b[38;5;21mget\u001b[39m(url, params\u001b[38;5;241m=\u001b[39m\u001b[38;5;28;01mNone\u001b[39;00m, \u001b[38;5;241m*\u001b[39m\u001b[38;5;241m*\u001b[39mkwargs):\n\u001b[1;32m     63\u001b[0m \u001b[38;5;250m    \u001b[39m\u001b[38;5;124mr\u001b[39m\u001b[38;5;124;03m\"\"\"Sends a GET request.\u001b[39;00m\n\u001b[1;32m     64\u001b[0m \n\u001b[1;32m     65\u001b[0m \u001b[38;5;124;03m    :param url: URL for the new :class:`Request` object.\u001b[39;00m\n\u001b[0;32m   (...)\u001b[0m\n\u001b[1;32m     70\u001b[0m \u001b[38;5;124;03m    :rtype: requests.Response\u001b[39;00m\n\u001b[1;32m     71\u001b[0m \u001b[38;5;124;03m    \"\"\"\u001b[39;00m\n\u001b[0;32m---> 73\u001b[0m     \u001b[38;5;28;01mreturn\u001b[39;00m \u001b[43mrequest\u001b[49m\u001b[43m(\u001b[49m\u001b[38;5;124;43m\"\u001b[39;49m\u001b[38;5;124;43mget\u001b[39;49m\u001b[38;5;124;43m\"\u001b[39;49m\u001b[43m,\u001b[49m\u001b[43m \u001b[49m\u001b[43murl\u001b[49m\u001b[43m,\u001b[49m\u001b[43m \u001b[49m\u001b[43mparams\u001b[49m\u001b[38;5;241;43m=\u001b[39;49m\u001b[43mparams\u001b[49m\u001b[43m,\u001b[49m\u001b[43m \u001b[49m\u001b[38;5;241;43m*\u001b[39;49m\u001b[38;5;241;43m*\u001b[39;49m\u001b[43mkwargs\u001b[49m\u001b[43m)\u001b[49m\n",
      "File \u001b[0;32m~/Library/Python/3.9/lib/python/site-packages/requests/api.py:59\u001b[0m, in \u001b[0;36mrequest\u001b[0;34m(method, url, **kwargs)\u001b[0m\n\u001b[1;32m     55\u001b[0m \u001b[38;5;66;03m# By using the 'with' statement we are sure the session is closed, thus we\u001b[39;00m\n\u001b[1;32m     56\u001b[0m \u001b[38;5;66;03m# avoid leaving sockets open which can trigger a ResourceWarning in some\u001b[39;00m\n\u001b[1;32m     57\u001b[0m \u001b[38;5;66;03m# cases, and look like a memory leak in others.\u001b[39;00m\n\u001b[1;32m     58\u001b[0m \u001b[38;5;28;01mwith\u001b[39;00m sessions\u001b[38;5;241m.\u001b[39mSession() \u001b[38;5;28;01mas\u001b[39;00m session:\n\u001b[0;32m---> 59\u001b[0m     \u001b[38;5;28;01mreturn\u001b[39;00m \u001b[43msession\u001b[49m\u001b[38;5;241;43m.\u001b[39;49m\u001b[43mrequest\u001b[49m\u001b[43m(\u001b[49m\u001b[43mmethod\u001b[49m\u001b[38;5;241;43m=\u001b[39;49m\u001b[43mmethod\u001b[49m\u001b[43m,\u001b[49m\u001b[43m \u001b[49m\u001b[43murl\u001b[49m\u001b[38;5;241;43m=\u001b[39;49m\u001b[43murl\u001b[49m\u001b[43m,\u001b[49m\u001b[43m \u001b[49m\u001b[38;5;241;43m*\u001b[39;49m\u001b[38;5;241;43m*\u001b[39;49m\u001b[43mkwargs\u001b[49m\u001b[43m)\u001b[49m\n",
      "File \u001b[0;32m~/Library/Python/3.9/lib/python/site-packages/requests/sessions.py:589\u001b[0m, in \u001b[0;36mSession.request\u001b[0;34m(self, method, url, params, data, headers, cookies, files, auth, timeout, allow_redirects, proxies, hooks, stream, verify, cert, json)\u001b[0m\n\u001b[1;32m    584\u001b[0m send_kwargs \u001b[38;5;241m=\u001b[39m {\n\u001b[1;32m    585\u001b[0m     \u001b[38;5;124m\"\u001b[39m\u001b[38;5;124mtimeout\u001b[39m\u001b[38;5;124m\"\u001b[39m: timeout,\n\u001b[1;32m    586\u001b[0m     \u001b[38;5;124m\"\u001b[39m\u001b[38;5;124mallow_redirects\u001b[39m\u001b[38;5;124m\"\u001b[39m: allow_redirects,\n\u001b[1;32m    587\u001b[0m }\n\u001b[1;32m    588\u001b[0m send_kwargs\u001b[38;5;241m.\u001b[39mupdate(settings)\n\u001b[0;32m--> 589\u001b[0m resp \u001b[38;5;241m=\u001b[39m \u001b[38;5;28;43mself\u001b[39;49m\u001b[38;5;241;43m.\u001b[39;49m\u001b[43msend\u001b[49m\u001b[43m(\u001b[49m\u001b[43mprep\u001b[49m\u001b[43m,\u001b[49m\u001b[43m \u001b[49m\u001b[38;5;241;43m*\u001b[39;49m\u001b[38;5;241;43m*\u001b[39;49m\u001b[43msend_kwargs\u001b[49m\u001b[43m)\u001b[49m\n\u001b[1;32m    591\u001b[0m \u001b[38;5;28;01mreturn\u001b[39;00m resp\n",
      "File \u001b[0;32m~/Library/Python/3.9/lib/python/site-packages/requests/sessions.py:703\u001b[0m, in \u001b[0;36mSession.send\u001b[0;34m(self, request, **kwargs)\u001b[0m\n\u001b[1;32m    700\u001b[0m start \u001b[38;5;241m=\u001b[39m preferred_clock()\n\u001b[1;32m    702\u001b[0m \u001b[38;5;66;03m# Send the request\u001b[39;00m\n\u001b[0;32m--> 703\u001b[0m r \u001b[38;5;241m=\u001b[39m \u001b[43madapter\u001b[49m\u001b[38;5;241;43m.\u001b[39;49m\u001b[43msend\u001b[49m\u001b[43m(\u001b[49m\u001b[43mrequest\u001b[49m\u001b[43m,\u001b[49m\u001b[43m \u001b[49m\u001b[38;5;241;43m*\u001b[39;49m\u001b[38;5;241;43m*\u001b[39;49m\u001b[43mkwargs\u001b[49m\u001b[43m)\u001b[49m\n\u001b[1;32m    705\u001b[0m \u001b[38;5;66;03m# Total elapsed time of the request (approximately)\u001b[39;00m\n\u001b[1;32m    706\u001b[0m elapsed \u001b[38;5;241m=\u001b[39m preferred_clock() \u001b[38;5;241m-\u001b[39m start\n",
      "File \u001b[0;32m~/Library/Python/3.9/lib/python/site-packages/requests/adapters.py:700\u001b[0m, in \u001b[0;36mHTTPAdapter.send\u001b[0;34m(self, request, stream, timeout, verify, cert, proxies)\u001b[0m\n\u001b[1;32m    696\u001b[0m     \u001b[38;5;28;01mif\u001b[39;00m \u001b[38;5;28misinstance\u001b[39m(e\u001b[38;5;241m.\u001b[39mreason, _SSLError):\n\u001b[1;32m    697\u001b[0m         \u001b[38;5;66;03m# This branch is for urllib3 v1.22 and later.\u001b[39;00m\n\u001b[1;32m    698\u001b[0m         \u001b[38;5;28;01mraise\u001b[39;00m SSLError(e, request\u001b[38;5;241m=\u001b[39mrequest)\n\u001b[0;32m--> 700\u001b[0m     \u001b[38;5;28;01mraise\u001b[39;00m \u001b[38;5;167;01mConnectionError\u001b[39;00m(e, request\u001b[38;5;241m=\u001b[39mrequest)\n\u001b[1;32m    702\u001b[0m \u001b[38;5;28;01mexcept\u001b[39;00m ClosedPoolError \u001b[38;5;28;01mas\u001b[39;00m e:\n\u001b[1;32m    703\u001b[0m     \u001b[38;5;28;01mraise\u001b[39;00m \u001b[38;5;167;01mConnectionError\u001b[39;00m(e, request\u001b[38;5;241m=\u001b[39mrequest)\n",
      "\u001b[0;31mConnectionError\u001b[0m: HTTPSConnectionPool(host='foreignfortune.com', port=443): Max retries exceeded with url: / (Caused by NameResolutionError(\"<urllib3.connection.HTTPSConnection object at 0x1067c3ca0>: Failed to resolve 'foreignfortune.com' ([Errno 8] nodename nor servname provided, or not known)\"))"
     ]
    }
   ],
   "source": [
    "import requests\n",
    "from bs4 import BeautifulSoup\n",
    "import time\n",
    "\n",
    "def scrape_foreign_fortune_urls():\n",
    "    base_url = \"https://foreignfortune.com/\"\n",
    "    \n",
    "    # Send a GET request to the website\n",
    "    response = requests.get(base_url)\n",
    "    \n",
    "    # Parse the HTML content\n",
    "    soup = BeautifulSoup(response.content, 'html.parser')\n",
    "    nav = soup.find(class_=\"small--hide border-bottom\")\n",
    "    if nav:\n",
    "        ul = nav.find('ul', id='SiteNav')\n",
    "        if ul:\n",
    "            links = ul.find_all('a', class_='site-nav__link site-nav__link--main')\n",
    "            # Extract all relevant urls\n",
    "            urls = []\n",
    "            for link in links:\n",
    "                url = link.get('href')\n",
    "                if url:\n",
    "                    # Convert relative URLs to absolute URLs if necessary\n",
    "                    if url.startswith('/'):\n",
    "                        url = 'https://foreignfortune.com' + url\n",
    "                    urls.append(url)\n",
    "    return urls \n",
    "\n",
    "# Run the scraper\n",
    "urls  = scrape_foreign_fortune_urls()"
   ]
  },
  {
   "cell_type": "code",
   "execution_count": 7,
   "metadata": {},
   "outputs": [
    {
     "data": {
      "text/plain": [
       "['https://foreignfortune.com/collections/men-unisex',\n",
       " 'https://foreignfortune.com/collections/women',\n",
       " 'https://foreignfortune.com/collections/kids',\n",
       " 'https://foreignfortune.com/collections/coats-hats',\n",
       " 'https://foreignfortune.com/collections/small-logo-embroidery-t-shirts-1',\n",
       " 'https://foreignfortune.com/collections/frontpage',\n",
       " 'https://foreignfortune.com/collections/foreign-accesories']"
      ]
     },
     "execution_count": 7,
     "metadata": {},
     "output_type": "execute_result"
    }
   ],
   "source": [
    "urls "
   ]
  },
  {
   "cell_type": "code",
   "execution_count": 31,
   "metadata": {},
   "outputs": [],
   "source": [
    "import math\n",
    "def scrape_srpecific_ur(url):\n",
    "    \n",
    "    # Send a GET request to the website\n",
    "    response = requests.get(url)\n",
    "    \n",
    "    # Parse the HTML content\n",
    "    soup = BeautifulSoup(response.content, 'html.parser')\n",
    "    product_count = soup.find(class_ = 'filters-toolbar__product-count').text.split()[0]\n",
    "    if product_count is not None:\n",
    "        pages = math.ceil(int(product_count) / 8)\n",
    "        # Scrape each page\n",
    "        for page in range(1, pages + 1):\n",
    "            page_url = f\"{url}?page={page}\"\n",
    "            print(f\"Scraping page {page}: {page_url}\")\n",
    "            # scrape_page(page_url)\n",
    "    print(pages)"
   ]
  },
  {
   "cell_type": "code",
   "execution_count": 32,
   "metadata": {},
   "outputs": [
    {
     "name": "stdout",
     "output_type": "stream",
     "text": [
      "Scraping page 1: https://foreignfortune.com/collections/men-unisex?page=1\n",
      "Scraping page 2: https://foreignfortune.com/collections/men-unisex?page=2\n",
      "2\n"
     ]
    }
   ],
   "source": [
    "scrape_srpecific_ur(\"https://foreignfortune.com/collections/men-unisex\")\n"
   ]
  },
  {
   "cell_type": "code",
   "execution_count": 49,
   "metadata": {},
   "outputs": [],
   "source": [
    "def scrape_page_links(page_url):\n",
    "    # Send a GET request to the website\n",
    "    response = requests.get(page_url)\n",
    "    \n",
    "    # Parse the HTML content\n",
    "    soup = BeautifulSoup(response.content, 'html.parser')\n",
    "    # Find all <a> elements with class 'hprelink' and extract their href attributes\n",
    "    links = [link.get('href') for link in soup.find_all('a', class_='product-card__link')]\n",
    "    \n",
    "    return links\n",
    "    \n",
    "    "
   ]
  },
  {
   "cell_type": "code",
   "execution_count": 50,
   "metadata": {},
   "outputs": [
    {
     "ename": "ConnectionError",
     "evalue": "HTTPSConnectionPool(host='foreignfortune.com', port=443): Max retries exceeded with url: /collections/men-unisex?page=1 (Caused by NameResolutionError(\"<urllib3.connection.HTTPSConnection object at 0x106f148b0>: Failed to resolve 'foreignfortune.com' ([Errno 8] nodename nor servname provided, or not known)\"))",
     "output_type": "error",
     "traceback": [
      "\u001b[0;31m---------------------------------------------------------------------------\u001b[0m",
      "\u001b[0;31mgaierror\u001b[0m                                  Traceback (most recent call last)",
      "File \u001b[0;32m~/Library/Python/3.9/lib/python/site-packages/urllib3/connection.py:196\u001b[0m, in \u001b[0;36mHTTPConnection._new_conn\u001b[0;34m(self)\u001b[0m\n\u001b[1;32m    195\u001b[0m \u001b[38;5;28;01mtry\u001b[39;00m:\n\u001b[0;32m--> 196\u001b[0m     sock \u001b[38;5;241m=\u001b[39m \u001b[43mconnection\u001b[49m\u001b[38;5;241;43m.\u001b[39;49m\u001b[43mcreate_connection\u001b[49m\u001b[43m(\u001b[49m\n\u001b[1;32m    197\u001b[0m \u001b[43m        \u001b[49m\u001b[43m(\u001b[49m\u001b[38;5;28;43mself\u001b[39;49m\u001b[38;5;241;43m.\u001b[39;49m\u001b[43m_dns_host\u001b[49m\u001b[43m,\u001b[49m\u001b[43m \u001b[49m\u001b[38;5;28;43mself\u001b[39;49m\u001b[38;5;241;43m.\u001b[39;49m\u001b[43mport\u001b[49m\u001b[43m)\u001b[49m\u001b[43m,\u001b[49m\n\u001b[1;32m    198\u001b[0m \u001b[43m        \u001b[49m\u001b[38;5;28;43mself\u001b[39;49m\u001b[38;5;241;43m.\u001b[39;49m\u001b[43mtimeout\u001b[49m\u001b[43m,\u001b[49m\n\u001b[1;32m    199\u001b[0m \u001b[43m        \u001b[49m\u001b[43msource_address\u001b[49m\u001b[38;5;241;43m=\u001b[39;49m\u001b[38;5;28;43mself\u001b[39;49m\u001b[38;5;241;43m.\u001b[39;49m\u001b[43msource_address\u001b[49m\u001b[43m,\u001b[49m\n\u001b[1;32m    200\u001b[0m \u001b[43m        \u001b[49m\u001b[43msocket_options\u001b[49m\u001b[38;5;241;43m=\u001b[39;49m\u001b[38;5;28;43mself\u001b[39;49m\u001b[38;5;241;43m.\u001b[39;49m\u001b[43msocket_options\u001b[49m\u001b[43m,\u001b[49m\n\u001b[1;32m    201\u001b[0m \u001b[43m    \u001b[49m\u001b[43m)\u001b[49m\n\u001b[1;32m    202\u001b[0m \u001b[38;5;28;01mexcept\u001b[39;00m socket\u001b[38;5;241m.\u001b[39mgaierror \u001b[38;5;28;01mas\u001b[39;00m e:\n",
      "File \u001b[0;32m~/Library/Python/3.9/lib/python/site-packages/urllib3/util/connection.py:60\u001b[0m, in \u001b[0;36mcreate_connection\u001b[0;34m(address, timeout, source_address, socket_options)\u001b[0m\n\u001b[1;32m     58\u001b[0m     \u001b[38;5;28;01mraise\u001b[39;00m LocationParseError(\u001b[38;5;124mf\u001b[39m\u001b[38;5;124m\"\u001b[39m\u001b[38;5;124m'\u001b[39m\u001b[38;5;132;01m{\u001b[39;00mhost\u001b[38;5;132;01m}\u001b[39;00m\u001b[38;5;124m'\u001b[39m\u001b[38;5;124m, label empty or too long\u001b[39m\u001b[38;5;124m\"\u001b[39m) \u001b[38;5;28;01mfrom\u001b[39;00m \u001b[38;5;28;01mNone\u001b[39;00m\n\u001b[0;32m---> 60\u001b[0m \u001b[38;5;28;01mfor\u001b[39;00m res \u001b[38;5;129;01min\u001b[39;00m \u001b[43msocket\u001b[49m\u001b[38;5;241;43m.\u001b[39;49m\u001b[43mgetaddrinfo\u001b[49m\u001b[43m(\u001b[49m\u001b[43mhost\u001b[49m\u001b[43m,\u001b[49m\u001b[43m \u001b[49m\u001b[43mport\u001b[49m\u001b[43m,\u001b[49m\u001b[43m \u001b[49m\u001b[43mfamily\u001b[49m\u001b[43m,\u001b[49m\u001b[43m \u001b[49m\u001b[43msocket\u001b[49m\u001b[38;5;241;43m.\u001b[39;49m\u001b[43mSOCK_STREAM\u001b[49m\u001b[43m)\u001b[49m:\n\u001b[1;32m     61\u001b[0m     af, socktype, proto, canonname, sa \u001b[38;5;241m=\u001b[39m res\n",
      "File \u001b[0;32m/Library/Developer/CommandLineTools/Library/Frameworks/Python3.framework/Versions/3.9/lib/python3.9/socket.py:953\u001b[0m, in \u001b[0;36mgetaddrinfo\u001b[0;34m(host, port, family, type, proto, flags)\u001b[0m\n\u001b[1;32m    952\u001b[0m addrlist \u001b[38;5;241m=\u001b[39m []\n\u001b[0;32m--> 953\u001b[0m \u001b[38;5;28;01mfor\u001b[39;00m res \u001b[38;5;129;01min\u001b[39;00m \u001b[43m_socket\u001b[49m\u001b[38;5;241;43m.\u001b[39;49m\u001b[43mgetaddrinfo\u001b[49m\u001b[43m(\u001b[49m\u001b[43mhost\u001b[49m\u001b[43m,\u001b[49m\u001b[43m \u001b[49m\u001b[43mport\u001b[49m\u001b[43m,\u001b[49m\u001b[43m \u001b[49m\u001b[43mfamily\u001b[49m\u001b[43m,\u001b[49m\u001b[43m \u001b[49m\u001b[38;5;28;43mtype\u001b[39;49m\u001b[43m,\u001b[49m\u001b[43m \u001b[49m\u001b[43mproto\u001b[49m\u001b[43m,\u001b[49m\u001b[43m \u001b[49m\u001b[43mflags\u001b[49m\u001b[43m)\u001b[49m:\n\u001b[1;32m    954\u001b[0m     af, socktype, proto, canonname, sa \u001b[38;5;241m=\u001b[39m res\n",
      "\u001b[0;31mgaierror\u001b[0m: [Errno 8] nodename nor servname provided, or not known",
      "\nThe above exception was the direct cause of the following exception:\n",
      "\u001b[0;31mNameResolutionError\u001b[0m                       Traceback (most recent call last)",
      "File \u001b[0;32m~/Library/Python/3.9/lib/python/site-packages/urllib3/connectionpool.py:789\u001b[0m, in \u001b[0;36mHTTPConnectionPool.urlopen\u001b[0;34m(self, method, url, body, headers, retries, redirect, assert_same_host, timeout, pool_timeout, release_conn, chunked, body_pos, preload_content, decode_content, **response_kw)\u001b[0m\n\u001b[1;32m    788\u001b[0m \u001b[38;5;66;03m# Make the request on the HTTPConnection object\u001b[39;00m\n\u001b[0;32m--> 789\u001b[0m response \u001b[38;5;241m=\u001b[39m \u001b[38;5;28;43mself\u001b[39;49m\u001b[38;5;241;43m.\u001b[39;49m\u001b[43m_make_request\u001b[49m\u001b[43m(\u001b[49m\n\u001b[1;32m    790\u001b[0m \u001b[43m    \u001b[49m\u001b[43mconn\u001b[49m\u001b[43m,\u001b[49m\n\u001b[1;32m    791\u001b[0m \u001b[43m    \u001b[49m\u001b[43mmethod\u001b[49m\u001b[43m,\u001b[49m\n\u001b[1;32m    792\u001b[0m \u001b[43m    \u001b[49m\u001b[43murl\u001b[49m\u001b[43m,\u001b[49m\n\u001b[1;32m    793\u001b[0m \u001b[43m    \u001b[49m\u001b[43mtimeout\u001b[49m\u001b[38;5;241;43m=\u001b[39;49m\u001b[43mtimeout_obj\u001b[49m\u001b[43m,\u001b[49m\n\u001b[1;32m    794\u001b[0m \u001b[43m    \u001b[49m\u001b[43mbody\u001b[49m\u001b[38;5;241;43m=\u001b[39;49m\u001b[43mbody\u001b[49m\u001b[43m,\u001b[49m\n\u001b[1;32m    795\u001b[0m \u001b[43m    \u001b[49m\u001b[43mheaders\u001b[49m\u001b[38;5;241;43m=\u001b[39;49m\u001b[43mheaders\u001b[49m\u001b[43m,\u001b[49m\n\u001b[1;32m    796\u001b[0m \u001b[43m    \u001b[49m\u001b[43mchunked\u001b[49m\u001b[38;5;241;43m=\u001b[39;49m\u001b[43mchunked\u001b[49m\u001b[43m,\u001b[49m\n\u001b[1;32m    797\u001b[0m \u001b[43m    \u001b[49m\u001b[43mretries\u001b[49m\u001b[38;5;241;43m=\u001b[39;49m\u001b[43mretries\u001b[49m\u001b[43m,\u001b[49m\n\u001b[1;32m    798\u001b[0m \u001b[43m    \u001b[49m\u001b[43mresponse_conn\u001b[49m\u001b[38;5;241;43m=\u001b[39;49m\u001b[43mresponse_conn\u001b[49m\u001b[43m,\u001b[49m\n\u001b[1;32m    799\u001b[0m \u001b[43m    \u001b[49m\u001b[43mpreload_content\u001b[49m\u001b[38;5;241;43m=\u001b[39;49m\u001b[43mpreload_content\u001b[49m\u001b[43m,\u001b[49m\n\u001b[1;32m    800\u001b[0m \u001b[43m    \u001b[49m\u001b[43mdecode_content\u001b[49m\u001b[38;5;241;43m=\u001b[39;49m\u001b[43mdecode_content\u001b[49m\u001b[43m,\u001b[49m\n\u001b[1;32m    801\u001b[0m \u001b[43m    \u001b[49m\u001b[38;5;241;43m*\u001b[39;49m\u001b[38;5;241;43m*\u001b[39;49m\u001b[43mresponse_kw\u001b[49m\u001b[43m,\u001b[49m\n\u001b[1;32m    802\u001b[0m \u001b[43m\u001b[49m\u001b[43m)\u001b[49m\n\u001b[1;32m    804\u001b[0m \u001b[38;5;66;03m# Everything went great!\u001b[39;00m\n",
      "File \u001b[0;32m~/Library/Python/3.9/lib/python/site-packages/urllib3/connectionpool.py:490\u001b[0m, in \u001b[0;36mHTTPConnectionPool._make_request\u001b[0;34m(self, conn, method, url, body, headers, retries, timeout, chunked, response_conn, preload_content, decode_content, enforce_content_length)\u001b[0m\n\u001b[1;32m    489\u001b[0m         new_e \u001b[38;5;241m=\u001b[39m _wrap_proxy_error(new_e, conn\u001b[38;5;241m.\u001b[39mproxy\u001b[38;5;241m.\u001b[39mscheme)\n\u001b[0;32m--> 490\u001b[0m     \u001b[38;5;28;01mraise\u001b[39;00m new_e\n\u001b[1;32m    492\u001b[0m \u001b[38;5;66;03m# conn.request() calls http.client.*.request, not the method in\u001b[39;00m\n\u001b[1;32m    493\u001b[0m \u001b[38;5;66;03m# urllib3.request. It also calls makefile (recv) on the socket.\u001b[39;00m\n",
      "File \u001b[0;32m~/Library/Python/3.9/lib/python/site-packages/urllib3/connectionpool.py:466\u001b[0m, in \u001b[0;36mHTTPConnectionPool._make_request\u001b[0;34m(self, conn, method, url, body, headers, retries, timeout, chunked, response_conn, preload_content, decode_content, enforce_content_length)\u001b[0m\n\u001b[1;32m    465\u001b[0m \u001b[38;5;28;01mtry\u001b[39;00m:\n\u001b[0;32m--> 466\u001b[0m     \u001b[38;5;28;43mself\u001b[39;49m\u001b[38;5;241;43m.\u001b[39;49m\u001b[43m_validate_conn\u001b[49m\u001b[43m(\u001b[49m\u001b[43mconn\u001b[49m\u001b[43m)\u001b[49m\n\u001b[1;32m    467\u001b[0m \u001b[38;5;28;01mexcept\u001b[39;00m (SocketTimeout, BaseSSLError) \u001b[38;5;28;01mas\u001b[39;00m e:\n",
      "File \u001b[0;32m~/Library/Python/3.9/lib/python/site-packages/urllib3/connectionpool.py:1095\u001b[0m, in \u001b[0;36mHTTPSConnectionPool._validate_conn\u001b[0;34m(self, conn)\u001b[0m\n\u001b[1;32m   1094\u001b[0m \u001b[38;5;28;01mif\u001b[39;00m conn\u001b[38;5;241m.\u001b[39mis_closed:\n\u001b[0;32m-> 1095\u001b[0m     \u001b[43mconn\u001b[49m\u001b[38;5;241;43m.\u001b[39;49m\u001b[43mconnect\u001b[49m\u001b[43m(\u001b[49m\u001b[43m)\u001b[49m\n\u001b[1;32m   1097\u001b[0m \u001b[38;5;66;03m# TODO revise this, see https://github.com/urllib3/urllib3/issues/2791\u001b[39;00m\n",
      "File \u001b[0;32m~/Library/Python/3.9/lib/python/site-packages/urllib3/connection.py:615\u001b[0m, in \u001b[0;36mHTTPSConnection.connect\u001b[0;34m(self)\u001b[0m\n\u001b[1;32m    614\u001b[0m sock: socket\u001b[38;5;241m.\u001b[39msocket \u001b[38;5;241m|\u001b[39m ssl\u001b[38;5;241m.\u001b[39mSSLSocket\n\u001b[0;32m--> 615\u001b[0m \u001b[38;5;28mself\u001b[39m\u001b[38;5;241m.\u001b[39msock \u001b[38;5;241m=\u001b[39m sock \u001b[38;5;241m=\u001b[39m \u001b[38;5;28;43mself\u001b[39;49m\u001b[38;5;241;43m.\u001b[39;49m\u001b[43m_new_conn\u001b[49m\u001b[43m(\u001b[49m\u001b[43m)\u001b[49m\n\u001b[1;32m    616\u001b[0m server_hostname: \u001b[38;5;28mstr\u001b[39m \u001b[38;5;241m=\u001b[39m \u001b[38;5;28mself\u001b[39m\u001b[38;5;241m.\u001b[39mhost\n",
      "File \u001b[0;32m~/Library/Python/3.9/lib/python/site-packages/urllib3/connection.py:203\u001b[0m, in \u001b[0;36mHTTPConnection._new_conn\u001b[0;34m(self)\u001b[0m\n\u001b[1;32m    202\u001b[0m \u001b[38;5;28;01mexcept\u001b[39;00m socket\u001b[38;5;241m.\u001b[39mgaierror \u001b[38;5;28;01mas\u001b[39;00m e:\n\u001b[0;32m--> 203\u001b[0m     \u001b[38;5;28;01mraise\u001b[39;00m NameResolutionError(\u001b[38;5;28mself\u001b[39m\u001b[38;5;241m.\u001b[39mhost, \u001b[38;5;28mself\u001b[39m, e) \u001b[38;5;28;01mfrom\u001b[39;00m \u001b[38;5;21;01me\u001b[39;00m\n\u001b[1;32m    204\u001b[0m \u001b[38;5;28;01mexcept\u001b[39;00m SocketTimeout \u001b[38;5;28;01mas\u001b[39;00m e:\n",
      "\u001b[0;31mNameResolutionError\u001b[0m: <urllib3.connection.HTTPSConnection object at 0x106f148b0>: Failed to resolve 'foreignfortune.com' ([Errno 8] nodename nor servname provided, or not known)",
      "\nThe above exception was the direct cause of the following exception:\n",
      "\u001b[0;31mMaxRetryError\u001b[0m                             Traceback (most recent call last)",
      "File \u001b[0;32m~/Library/Python/3.9/lib/python/site-packages/requests/adapters.py:667\u001b[0m, in \u001b[0;36mHTTPAdapter.send\u001b[0;34m(self, request, stream, timeout, verify, cert, proxies)\u001b[0m\n\u001b[1;32m    666\u001b[0m \u001b[38;5;28;01mtry\u001b[39;00m:\n\u001b[0;32m--> 667\u001b[0m     resp \u001b[38;5;241m=\u001b[39m \u001b[43mconn\u001b[49m\u001b[38;5;241;43m.\u001b[39;49m\u001b[43murlopen\u001b[49m\u001b[43m(\u001b[49m\n\u001b[1;32m    668\u001b[0m \u001b[43m        \u001b[49m\u001b[43mmethod\u001b[49m\u001b[38;5;241;43m=\u001b[39;49m\u001b[43mrequest\u001b[49m\u001b[38;5;241;43m.\u001b[39;49m\u001b[43mmethod\u001b[49m\u001b[43m,\u001b[49m\n\u001b[1;32m    669\u001b[0m \u001b[43m        \u001b[49m\u001b[43murl\u001b[49m\u001b[38;5;241;43m=\u001b[39;49m\u001b[43murl\u001b[49m\u001b[43m,\u001b[49m\n\u001b[1;32m    670\u001b[0m \u001b[43m        \u001b[49m\u001b[43mbody\u001b[49m\u001b[38;5;241;43m=\u001b[39;49m\u001b[43mrequest\u001b[49m\u001b[38;5;241;43m.\u001b[39;49m\u001b[43mbody\u001b[49m\u001b[43m,\u001b[49m\n\u001b[1;32m    671\u001b[0m \u001b[43m        \u001b[49m\u001b[43mheaders\u001b[49m\u001b[38;5;241;43m=\u001b[39;49m\u001b[43mrequest\u001b[49m\u001b[38;5;241;43m.\u001b[39;49m\u001b[43mheaders\u001b[49m\u001b[43m,\u001b[49m\n\u001b[1;32m    672\u001b[0m \u001b[43m        \u001b[49m\u001b[43mredirect\u001b[49m\u001b[38;5;241;43m=\u001b[39;49m\u001b[38;5;28;43;01mFalse\u001b[39;49;00m\u001b[43m,\u001b[49m\n\u001b[1;32m    673\u001b[0m \u001b[43m        \u001b[49m\u001b[43massert_same_host\u001b[49m\u001b[38;5;241;43m=\u001b[39;49m\u001b[38;5;28;43;01mFalse\u001b[39;49;00m\u001b[43m,\u001b[49m\n\u001b[1;32m    674\u001b[0m \u001b[43m        \u001b[49m\u001b[43mpreload_content\u001b[49m\u001b[38;5;241;43m=\u001b[39;49m\u001b[38;5;28;43;01mFalse\u001b[39;49;00m\u001b[43m,\u001b[49m\n\u001b[1;32m    675\u001b[0m \u001b[43m        \u001b[49m\u001b[43mdecode_content\u001b[49m\u001b[38;5;241;43m=\u001b[39;49m\u001b[38;5;28;43;01mFalse\u001b[39;49;00m\u001b[43m,\u001b[49m\n\u001b[1;32m    676\u001b[0m \u001b[43m        \u001b[49m\u001b[43mretries\u001b[49m\u001b[38;5;241;43m=\u001b[39;49m\u001b[38;5;28;43mself\u001b[39;49m\u001b[38;5;241;43m.\u001b[39;49m\u001b[43mmax_retries\u001b[49m\u001b[43m,\u001b[49m\n\u001b[1;32m    677\u001b[0m \u001b[43m        \u001b[49m\u001b[43mtimeout\u001b[49m\u001b[38;5;241;43m=\u001b[39;49m\u001b[43mtimeout\u001b[49m\u001b[43m,\u001b[49m\n\u001b[1;32m    678\u001b[0m \u001b[43m        \u001b[49m\u001b[43mchunked\u001b[49m\u001b[38;5;241;43m=\u001b[39;49m\u001b[43mchunked\u001b[49m\u001b[43m,\u001b[49m\n\u001b[1;32m    679\u001b[0m \u001b[43m    \u001b[49m\u001b[43m)\u001b[49m\n\u001b[1;32m    681\u001b[0m \u001b[38;5;28;01mexcept\u001b[39;00m (ProtocolError, \u001b[38;5;167;01mOSError\u001b[39;00m) \u001b[38;5;28;01mas\u001b[39;00m err:\n",
      "File \u001b[0;32m~/Library/Python/3.9/lib/python/site-packages/urllib3/connectionpool.py:843\u001b[0m, in \u001b[0;36mHTTPConnectionPool.urlopen\u001b[0;34m(self, method, url, body, headers, retries, redirect, assert_same_host, timeout, pool_timeout, release_conn, chunked, body_pos, preload_content, decode_content, **response_kw)\u001b[0m\n\u001b[1;32m    841\u001b[0m     new_e \u001b[38;5;241m=\u001b[39m ProtocolError(\u001b[38;5;124m\"\u001b[39m\u001b[38;5;124mConnection aborted.\u001b[39m\u001b[38;5;124m\"\u001b[39m, new_e)\n\u001b[0;32m--> 843\u001b[0m retries \u001b[38;5;241m=\u001b[39m \u001b[43mretries\u001b[49m\u001b[38;5;241;43m.\u001b[39;49m\u001b[43mincrement\u001b[49m\u001b[43m(\u001b[49m\n\u001b[1;32m    844\u001b[0m \u001b[43m    \u001b[49m\u001b[43mmethod\u001b[49m\u001b[43m,\u001b[49m\u001b[43m \u001b[49m\u001b[43murl\u001b[49m\u001b[43m,\u001b[49m\u001b[43m \u001b[49m\u001b[43merror\u001b[49m\u001b[38;5;241;43m=\u001b[39;49m\u001b[43mnew_e\u001b[49m\u001b[43m,\u001b[49m\u001b[43m \u001b[49m\u001b[43m_pool\u001b[49m\u001b[38;5;241;43m=\u001b[39;49m\u001b[38;5;28;43mself\u001b[39;49m\u001b[43m,\u001b[49m\u001b[43m \u001b[49m\u001b[43m_stacktrace\u001b[49m\u001b[38;5;241;43m=\u001b[39;49m\u001b[43msys\u001b[49m\u001b[38;5;241;43m.\u001b[39;49m\u001b[43mexc_info\u001b[49m\u001b[43m(\u001b[49m\u001b[43m)\u001b[49m\u001b[43m[\u001b[49m\u001b[38;5;241;43m2\u001b[39;49m\u001b[43m]\u001b[49m\n\u001b[1;32m    845\u001b[0m \u001b[43m\u001b[49m\u001b[43m)\u001b[49m\n\u001b[1;32m    846\u001b[0m retries\u001b[38;5;241m.\u001b[39msleep()\n",
      "File \u001b[0;32m~/Library/Python/3.9/lib/python/site-packages/urllib3/util/retry.py:519\u001b[0m, in \u001b[0;36mRetry.increment\u001b[0;34m(self, method, url, response, error, _pool, _stacktrace)\u001b[0m\n\u001b[1;32m    518\u001b[0m     reason \u001b[38;5;241m=\u001b[39m error \u001b[38;5;129;01mor\u001b[39;00m ResponseError(cause)\n\u001b[0;32m--> 519\u001b[0m     \u001b[38;5;28;01mraise\u001b[39;00m MaxRetryError(_pool, url, reason) \u001b[38;5;28;01mfrom\u001b[39;00m \u001b[38;5;21;01mreason\u001b[39;00m  \u001b[38;5;66;03m# type: ignore[arg-type]\u001b[39;00m\n\u001b[1;32m    521\u001b[0m log\u001b[38;5;241m.\u001b[39mdebug(\u001b[38;5;124m\"\u001b[39m\u001b[38;5;124mIncremented Retry for (url=\u001b[39m\u001b[38;5;124m'\u001b[39m\u001b[38;5;132;01m%s\u001b[39;00m\u001b[38;5;124m'\u001b[39m\u001b[38;5;124m): \u001b[39m\u001b[38;5;132;01m%r\u001b[39;00m\u001b[38;5;124m\"\u001b[39m, url, new_retry)\n",
      "\u001b[0;31mMaxRetryError\u001b[0m: HTTPSConnectionPool(host='foreignfortune.com', port=443): Max retries exceeded with url: /collections/men-unisex?page=1 (Caused by NameResolutionError(\"<urllib3.connection.HTTPSConnection object at 0x106f148b0>: Failed to resolve 'foreignfortune.com' ([Errno 8] nodename nor servname provided, or not known)\"))",
      "\nDuring handling of the above exception, another exception occurred:\n",
      "\u001b[0;31mConnectionError\u001b[0m                           Traceback (most recent call last)",
      "Cell \u001b[0;32mIn[50], line 1\u001b[0m\n\u001b[0;32m----> 1\u001b[0m links \u001b[38;5;241m=\u001b[39m \u001b[43mscrape_page_links\u001b[49m\u001b[43m(\u001b[49m\u001b[38;5;124;43m\"\u001b[39;49m\u001b[38;5;124;43mhttps://foreignfortune.com/collections/men-unisex?page=1\u001b[39;49m\u001b[38;5;124;43m\"\u001b[39;49m\u001b[43m)\u001b[49m\n",
      "Cell \u001b[0;32mIn[49], line 3\u001b[0m, in \u001b[0;36mscrape_page_links\u001b[0;34m(page_url)\u001b[0m\n\u001b[1;32m      1\u001b[0m \u001b[38;5;28;01mdef\u001b[39;00m \u001b[38;5;21mscrape_page_links\u001b[39m(page_url):\n\u001b[1;32m      2\u001b[0m     \u001b[38;5;66;03m# Send a GET request to the website\u001b[39;00m\n\u001b[0;32m----> 3\u001b[0m     response \u001b[38;5;241m=\u001b[39m \u001b[43mrequests\u001b[49m\u001b[38;5;241;43m.\u001b[39;49m\u001b[43mget\u001b[49m\u001b[43m(\u001b[49m\u001b[43mpage_url\u001b[49m\u001b[43m)\u001b[49m\n\u001b[1;32m      5\u001b[0m     \u001b[38;5;66;03m# Parse the HTML content\u001b[39;00m\n\u001b[1;32m      6\u001b[0m     soup \u001b[38;5;241m=\u001b[39m BeautifulSoup(response\u001b[38;5;241m.\u001b[39mcontent, \u001b[38;5;124m'\u001b[39m\u001b[38;5;124mhtml.parser\u001b[39m\u001b[38;5;124m'\u001b[39m)\n",
      "File \u001b[0;32m~/Library/Python/3.9/lib/python/site-packages/requests/api.py:73\u001b[0m, in \u001b[0;36mget\u001b[0;34m(url, params, **kwargs)\u001b[0m\n\u001b[1;32m     62\u001b[0m \u001b[38;5;28;01mdef\u001b[39;00m \u001b[38;5;21mget\u001b[39m(url, params\u001b[38;5;241m=\u001b[39m\u001b[38;5;28;01mNone\u001b[39;00m, \u001b[38;5;241m*\u001b[39m\u001b[38;5;241m*\u001b[39mkwargs):\n\u001b[1;32m     63\u001b[0m \u001b[38;5;250m    \u001b[39m\u001b[38;5;124mr\u001b[39m\u001b[38;5;124;03m\"\"\"Sends a GET request.\u001b[39;00m\n\u001b[1;32m     64\u001b[0m \n\u001b[1;32m     65\u001b[0m \u001b[38;5;124;03m    :param url: URL for the new :class:`Request` object.\u001b[39;00m\n\u001b[0;32m   (...)\u001b[0m\n\u001b[1;32m     70\u001b[0m \u001b[38;5;124;03m    :rtype: requests.Response\u001b[39;00m\n\u001b[1;32m     71\u001b[0m \u001b[38;5;124;03m    \"\"\"\u001b[39;00m\n\u001b[0;32m---> 73\u001b[0m     \u001b[38;5;28;01mreturn\u001b[39;00m \u001b[43mrequest\u001b[49m\u001b[43m(\u001b[49m\u001b[38;5;124;43m\"\u001b[39;49m\u001b[38;5;124;43mget\u001b[39;49m\u001b[38;5;124;43m\"\u001b[39;49m\u001b[43m,\u001b[49m\u001b[43m \u001b[49m\u001b[43murl\u001b[49m\u001b[43m,\u001b[49m\u001b[43m \u001b[49m\u001b[43mparams\u001b[49m\u001b[38;5;241;43m=\u001b[39;49m\u001b[43mparams\u001b[49m\u001b[43m,\u001b[49m\u001b[43m \u001b[49m\u001b[38;5;241;43m*\u001b[39;49m\u001b[38;5;241;43m*\u001b[39;49m\u001b[43mkwargs\u001b[49m\u001b[43m)\u001b[49m\n",
      "File \u001b[0;32m~/Library/Python/3.9/lib/python/site-packages/requests/api.py:59\u001b[0m, in \u001b[0;36mrequest\u001b[0;34m(method, url, **kwargs)\u001b[0m\n\u001b[1;32m     55\u001b[0m \u001b[38;5;66;03m# By using the 'with' statement we are sure the session is closed, thus we\u001b[39;00m\n\u001b[1;32m     56\u001b[0m \u001b[38;5;66;03m# avoid leaving sockets open which can trigger a ResourceWarning in some\u001b[39;00m\n\u001b[1;32m     57\u001b[0m \u001b[38;5;66;03m# cases, and look like a memory leak in others.\u001b[39;00m\n\u001b[1;32m     58\u001b[0m \u001b[38;5;28;01mwith\u001b[39;00m sessions\u001b[38;5;241m.\u001b[39mSession() \u001b[38;5;28;01mas\u001b[39;00m session:\n\u001b[0;32m---> 59\u001b[0m     \u001b[38;5;28;01mreturn\u001b[39;00m \u001b[43msession\u001b[49m\u001b[38;5;241;43m.\u001b[39;49m\u001b[43mrequest\u001b[49m\u001b[43m(\u001b[49m\u001b[43mmethod\u001b[49m\u001b[38;5;241;43m=\u001b[39;49m\u001b[43mmethod\u001b[49m\u001b[43m,\u001b[49m\u001b[43m \u001b[49m\u001b[43murl\u001b[49m\u001b[38;5;241;43m=\u001b[39;49m\u001b[43murl\u001b[49m\u001b[43m,\u001b[49m\u001b[43m \u001b[49m\u001b[38;5;241;43m*\u001b[39;49m\u001b[38;5;241;43m*\u001b[39;49m\u001b[43mkwargs\u001b[49m\u001b[43m)\u001b[49m\n",
      "File \u001b[0;32m~/Library/Python/3.9/lib/python/site-packages/requests/sessions.py:589\u001b[0m, in \u001b[0;36mSession.request\u001b[0;34m(self, method, url, params, data, headers, cookies, files, auth, timeout, allow_redirects, proxies, hooks, stream, verify, cert, json)\u001b[0m\n\u001b[1;32m    584\u001b[0m send_kwargs \u001b[38;5;241m=\u001b[39m {\n\u001b[1;32m    585\u001b[0m     \u001b[38;5;124m\"\u001b[39m\u001b[38;5;124mtimeout\u001b[39m\u001b[38;5;124m\"\u001b[39m: timeout,\n\u001b[1;32m    586\u001b[0m     \u001b[38;5;124m\"\u001b[39m\u001b[38;5;124mallow_redirects\u001b[39m\u001b[38;5;124m\"\u001b[39m: allow_redirects,\n\u001b[1;32m    587\u001b[0m }\n\u001b[1;32m    588\u001b[0m send_kwargs\u001b[38;5;241m.\u001b[39mupdate(settings)\n\u001b[0;32m--> 589\u001b[0m resp \u001b[38;5;241m=\u001b[39m \u001b[38;5;28;43mself\u001b[39;49m\u001b[38;5;241;43m.\u001b[39;49m\u001b[43msend\u001b[49m\u001b[43m(\u001b[49m\u001b[43mprep\u001b[49m\u001b[43m,\u001b[49m\u001b[43m \u001b[49m\u001b[38;5;241;43m*\u001b[39;49m\u001b[38;5;241;43m*\u001b[39;49m\u001b[43msend_kwargs\u001b[49m\u001b[43m)\u001b[49m\n\u001b[1;32m    591\u001b[0m \u001b[38;5;28;01mreturn\u001b[39;00m resp\n",
      "File \u001b[0;32m~/Library/Python/3.9/lib/python/site-packages/requests/sessions.py:703\u001b[0m, in \u001b[0;36mSession.send\u001b[0;34m(self, request, **kwargs)\u001b[0m\n\u001b[1;32m    700\u001b[0m start \u001b[38;5;241m=\u001b[39m preferred_clock()\n\u001b[1;32m    702\u001b[0m \u001b[38;5;66;03m# Send the request\u001b[39;00m\n\u001b[0;32m--> 703\u001b[0m r \u001b[38;5;241m=\u001b[39m \u001b[43madapter\u001b[49m\u001b[38;5;241;43m.\u001b[39;49m\u001b[43msend\u001b[49m\u001b[43m(\u001b[49m\u001b[43mrequest\u001b[49m\u001b[43m,\u001b[49m\u001b[43m \u001b[49m\u001b[38;5;241;43m*\u001b[39;49m\u001b[38;5;241;43m*\u001b[39;49m\u001b[43mkwargs\u001b[49m\u001b[43m)\u001b[49m\n\u001b[1;32m    705\u001b[0m \u001b[38;5;66;03m# Total elapsed time of the request (approximately)\u001b[39;00m\n\u001b[1;32m    706\u001b[0m elapsed \u001b[38;5;241m=\u001b[39m preferred_clock() \u001b[38;5;241m-\u001b[39m start\n",
      "File \u001b[0;32m~/Library/Python/3.9/lib/python/site-packages/requests/adapters.py:700\u001b[0m, in \u001b[0;36mHTTPAdapter.send\u001b[0;34m(self, request, stream, timeout, verify, cert, proxies)\u001b[0m\n\u001b[1;32m    696\u001b[0m     \u001b[38;5;28;01mif\u001b[39;00m \u001b[38;5;28misinstance\u001b[39m(e\u001b[38;5;241m.\u001b[39mreason, _SSLError):\n\u001b[1;32m    697\u001b[0m         \u001b[38;5;66;03m# This branch is for urllib3 v1.22 and later.\u001b[39;00m\n\u001b[1;32m    698\u001b[0m         \u001b[38;5;28;01mraise\u001b[39;00m SSLError(e, request\u001b[38;5;241m=\u001b[39mrequest)\n\u001b[0;32m--> 700\u001b[0m     \u001b[38;5;28;01mraise\u001b[39;00m \u001b[38;5;167;01mConnectionError\u001b[39;00m(e, request\u001b[38;5;241m=\u001b[39mrequest)\n\u001b[1;32m    702\u001b[0m \u001b[38;5;28;01mexcept\u001b[39;00m ClosedPoolError \u001b[38;5;28;01mas\u001b[39;00m e:\n\u001b[1;32m    703\u001b[0m     \u001b[38;5;28;01mraise\u001b[39;00m \u001b[38;5;167;01mConnectionError\u001b[39;00m(e, request\u001b[38;5;241m=\u001b[39mrequest)\n",
      "\u001b[0;31mConnectionError\u001b[0m: HTTPSConnectionPool(host='foreignfortune.com', port=443): Max retries exceeded with url: /collections/men-unisex?page=1 (Caused by NameResolutionError(\"<urllib3.connection.HTTPSConnection object at 0x106f148b0>: Failed to resolve 'foreignfortune.com' ([Errno 8] nodename nor servname provided, or not known)\"))"
     ]
    }
   ],
   "source": [
    "links = scrape_page_links(\"https://foreignfortune.com/collections/men-unisex?page=1\")"
   ]
  },
  {
   "cell_type": "code",
   "execution_count": 215,
   "metadata": {},
   "outputs": [],
   "source": [
    "\n",
    "url = 'https://foreignfortune.com/collections/men-unisex/products/foreign-fortune-collection-joggers-1'\n",
    "import re\n",
    "import json\n",
    "from collections import defaultdict\n",
    "def scrape_product(url):\n",
    "    \n",
    "    product_details = {}\n",
    "    # Send a GET request to the website\n",
    "    response = requests.get(url)\n",
    "    \n",
    "    # Parse the HTML content\n",
    "    soup = BeautifulSoup(response.content, 'html.parser')\n",
    "    \n",
    "    # Find  <script> elements\n",
    "    body = soup.find('body', class_ = \"template-product\")\n",
    "    # product_details[\"title\"] = body.find(class_ = \"product-single__title\").text\n",
    "    # # Step 1: Convert the string to lowercase\n",
    "    # lowercase_string = product_details[\"title\"].lower()\n",
    "\n",
    "    # # Step 2: Replace spaces and hyphens with a single hyphen\n",
    "    # # This can be done using a regular expression to handle both spaces and hyphens\n",
    "    # product_details[\"product_id\"] = re.sub(r'[ -]+', '-', lowercase_string)\n",
    "    image_div = body.find(class_ = \"product-single__photo js-zoom-enabled product-single__photo--has-thumbnails\")\n",
    "    image = image_div.find('img').get('src')\n",
    "    # product_details[\"image\"] = image_div.find('img').get('src')\n",
    "    price = body.find('span',id= \"ProductPrice-product-template\").text\n",
    "    # product_details[\"price\"] = price.split(\"$\")[1] \n",
    "    # product_details[\"description\"] = body.find('div',class_ = \"product-single__description rte\").text.strip()\n",
    "    # product_details[\"sale_prices\"] = [product_details[\"description\"]]\n",
    "    # product_details[\"prices\"] = [product_details[\"description\"]]\n",
    "    # images_list = []\n",
    "    # image_divs = body.find_all('div',class_= \"product-single__photo-wrapper js\")\n",
    "    # for images_div in image_divs:\n",
    "    #     image = images_div.find('img').get('src')\n",
    "    #     images_list.append(image)\n",
    "    \n",
    "    # product_details[\"images\"] = images_list\n",
    "    # product_details[\"brand\"] = \"Foreign Fortune Clothing\"\n",
    "    # product_details[\"url\"] = url\n",
    "    # select = body.find('select',id = 'ProductSelect-product-template')\n",
    "    # options = select.find_all('option')\n",
    "    # print(options)\n",
    "    \n",
    "            # script = body.find('script', text=lambda t: t and 'window.KlarnaThemeGlobals.productVariants' in t)\n",
    "            # script = script.string\n",
    "            \n",
    "            # # # Use regex to find the productVariants array\n",
    "            # match = re.search(r'productVariants\\s*=\\s*(\\[{.*}\\])', script, re.DOTALL)\n",
    "            # if match:\n",
    "            #     # Extract the array string\n",
    "            #     variants_string = match.group(1)\n",
    "                \n",
    "            #     # Replace single quotes with double quotes for valid JSON\n",
    "            #     variants_string = variants_string.replace(\"'\", '\"')\n",
    "                \n",
    "            # # Parse the JSON data\n",
    "            #     variants_list = json.loads(variants_string)\n",
    "            #     models = []\n",
    "            #     for variant in variants_list:\n",
    "            #         print(variant)\n",
    "        \n",
    "    form = body.find('form',class_ = \"product-form product-form-product-template\")\n",
    "    select_divs = form.find_all('div')\n",
    "    selection_dict = {}\n",
    "    for div in select_divs:\n",
    "        # Extract the label text\n",
    "        label = div.find('label')\n",
    "        if label:\n",
    "                label_text =label.text.strip().lower()\n",
    "        # label_text = div.label.text.strip()\n",
    "\n",
    "        # Extract the data-index value\n",
    "        select_element = div.select_one('select')\n",
    "        if select_element :\n",
    "                data_index = select_element['data-index']\n",
    "        selection_dict[label_text] = data_index\n",
    "    script = body.find('script', text=lambda t: t and 'window.KlarnaThemeGlobals.productVariants' in t)\n",
    "    script = script.string\n",
    "\n",
    "        # # Use regex to find the productVariants array\n",
    "    match = re.search(r'productVariants\\s*=\\s*(\\[{.*}\\])', script, re.DOTALL)\n",
    "    if match:\n",
    "        # Extract the array string\n",
    "        variants_string = match.group(1)\n",
    "\n",
    "        # Replace single quotes with double quotes for valid JSON\n",
    "        variants_string = variants_string.replace(\"'\", '\"')\n",
    "\n",
    "        # Parse the JSON data\n",
    "        variants_list = json.loads(variants_string)\n",
    "        models = []\n",
    "        color = selection_dict['color']\n",
    "        if selection_dict['size']:\n",
    "                size = selection_dict['size']\n",
    "        if selection_dict['style']:\n",
    "                style = selection_dict['style']\n",
    "        for values in variants_list:\n",
    "                variant_dict = {}\n",
    "                variant_dict[\"color\"] = values[color]\n",
    "                variant = {\n",
    "                        \"id\" : values[\"id\"],\n",
    "                        \"price\": values[\"price\"]/100,\n",
    "                        \"image\" : image,\n",
    "                }\n",
    "                if selection_dict['size'] :\n",
    "                        variant['size'] = values[size]\n",
    "                if selection_dict['style'] :\n",
    "                        variant['style'] = values[style]\n",
    "                variant_dict[\"variant\"] = variant\n",
    "                models.append(variant_dict)\n",
    "        test = models\n",
    "        # Group variants by color\n",
    "        # color_groups = defaultdict(list)\n",
    "        # for item in models:\n",
    "        #         color = item['color']\n",
    "        #         variant = item['variant']\n",
    "        #         color_groups[color].append(variant)\n",
    "\n",
    "        # # Create the output structure\n",
    "        # models = []\n",
    "        # for color, variants in color_groups.items():\n",
    "        #         models.append({\n",
    "        #                 \"color\": color,\n",
    "        #                 \"variant\": variants if len(variants) > 1 else variants[0]\n",
    "        #         })\n",
    "        # product_details[\"models\"] = models\n",
    "                \n",
    "\n",
    "\n",
    "        return test\n",
    "        \n"
   ]
  },
  {
   "cell_type": "code",
   "execution_count": 216,
   "metadata": {},
   "outputs": [
    {
     "name": "stderr",
     "output_type": "stream",
     "text": [
      "/var/folders/41/pj31yp0949l7h3w7q1vn_84m0000gn/T/ipykernel_2827/3697913200.py:77: DeprecationWarning: The 'text' argument to find()-type methods is deprecated. Use 'string' instead.\n",
      "  script = body.find('script', text=lambda t: t and 'window.KlarnaThemeGlobals.productVariants' in t)\n"
     ]
    }
   ],
   "source": [
    "test scrape_product(url)"
   ]
  },
  {
   "cell_type": "code",
   "execution_count": 189,
   "metadata": {},
   "outputs": [
    {
     "name": "stdout",
     "output_type": "stream",
     "text": [
      "{'size': 'option1', 'color': 'option2', 'style': 'option3'}\n",
      "{'id': 41228637077697, 'title': 'XS / Black / Hood', 'option1': 'XS', 'option2': 'Black', 'option3': 'Hood', 'sku': '', 'requires_shipping': True, 'taxable': True, 'featured_image': None, 'available': True, 'name': 'Foreign Fortune Collection Joggers- Adult - XS / Black / Hood', 'public_title': 'XS / Black / Hood', 'options': ['XS', 'Black', 'Hood'], 'price': 18000, 'weight': 0, 'compare_at_price': None, 'inventory_management': 'shopify', 'barcode': '', 'requires_selling_plan': False, 'selling_plan_allocations': []}\n",
      "{'id': 41228874612929, 'title': 'XS / Black / Crewneck', 'option1': 'XS', 'option2': 'Black', 'option3': 'Crewneck', 'sku': '', 'requires_shipping': True, 'taxable': True, 'featured_image': None, 'available': True, 'name': 'Foreign Fortune Collection Joggers- Adult - XS / Black / Crewneck', 'public_title': 'XS / Black / Crewneck', 'options': ['XS', 'Black', 'Crewneck'], 'price': 18000, 'weight': 0, 'compare_at_price': None, 'inventory_management': 'shopify', 'barcode': '', 'requires_selling_plan': False, 'selling_plan_allocations': []}\n",
      "{'id': 41228637110465, 'title': 'XS / Green / Hood', 'option1': 'XS', 'option2': 'Green', 'option3': 'Hood', 'sku': '', 'requires_shipping': True, 'taxable': True, 'featured_image': None, 'available': True, 'name': 'Foreign Fortune Collection Joggers- Adult - XS / Green / Hood', 'public_title': 'XS / Green / Hood', 'options': ['XS', 'Green', 'Hood'], 'price': 18000, 'weight': 0, 'compare_at_price': None, 'inventory_management': 'shopify', 'barcode': '', 'requires_selling_plan': False, 'selling_plan_allocations': []}\n",
      "{'id': 41228874645697, 'title': 'XS / Green / Crewneck', 'option1': 'XS', 'option2': 'Green', 'option3': 'Crewneck', 'sku': '', 'requires_shipping': True, 'taxable': True, 'featured_image': None, 'available': True, 'name': 'Foreign Fortune Collection Joggers- Adult - XS / Green / Crewneck', 'public_title': 'XS / Green / Crewneck', 'options': ['XS', 'Green', 'Crewneck'], 'price': 18000, 'weight': 0, 'compare_at_price': None, 'inventory_management': 'shopify', 'barcode': '', 'requires_selling_plan': False, 'selling_plan_allocations': []}\n",
      "{'id': 41228637208769, 'title': 'XS / Grey / Hood', 'option1': 'XS', 'option2': 'Grey', 'option3': 'Hood', 'sku': '', 'requires_shipping': True, 'taxable': True, 'featured_image': None, 'available': True, 'name': 'Foreign Fortune Collection Joggers- Adult - XS / Grey / Hood', 'public_title': 'XS / Grey / Hood', 'options': ['XS', 'Grey', 'Hood'], 'price': 18000, 'weight': 0, 'compare_at_price': None, 'inventory_management': 'shopify', 'barcode': '', 'requires_selling_plan': False, 'selling_plan_allocations': []}\n",
      "{'id': 41228874744001, 'title': 'XS / Grey / Crewneck', 'option1': 'XS', 'option2': 'Grey', 'option3': 'Crewneck', 'sku': '', 'requires_shipping': True, 'taxable': True, 'featured_image': None, 'available': True, 'name': 'Foreign Fortune Collection Joggers- Adult - XS / Grey / Crewneck', 'public_title': 'XS / Grey / Crewneck', 'options': ['XS', 'Grey', 'Crewneck'], 'price': 18000, 'weight': 0, 'compare_at_price': None, 'inventory_management': 'shopify', 'barcode': '', 'requires_selling_plan': False, 'selling_plan_allocations': []}\n",
      "{'id': 41417727967425, 'title': 'XS / Navy Blue / Hood', 'option1': 'XS', 'option2': 'Navy Blue', 'option3': 'Hood', 'sku': '', 'requires_shipping': True, 'taxable': True, 'featured_image': None, 'available': True, 'name': 'Foreign Fortune Collection Joggers- Adult - XS / Navy Blue / Hood', 'public_title': 'XS / Navy Blue / Hood', 'options': ['XS', 'Navy Blue', 'Hood'], 'price': 18000, 'weight': 0, 'compare_at_price': None, 'inventory_management': 'shopify', 'barcode': '', 'requires_selling_plan': False, 'selling_plan_allocations': []}\n",
      "{'id': 41417728000193, 'title': 'XS / Navy Blue / Crewneck', 'option1': 'XS', 'option2': 'Navy Blue', 'option3': 'Crewneck', 'sku': '', 'requires_shipping': True, 'taxable': True, 'featured_image': None, 'available': True, 'name': 'Foreign Fortune Collection Joggers- Adult - XS / Navy Blue / Crewneck', 'public_title': 'XS / Navy Blue / Crewneck', 'options': ['XS', 'Navy Blue', 'Crewneck'], 'price': 18000, 'weight': 0, 'compare_at_price': None, 'inventory_management': 'shopify', 'barcode': '', 'requires_selling_plan': False, 'selling_plan_allocations': []}\n",
      "{'id': 41417728032961, 'title': 'XS / Red / Hood', 'option1': 'XS', 'option2': 'Red', 'option3': 'Hood', 'sku': '', 'requires_shipping': True, 'taxable': True, 'featured_image': None, 'available': True, 'name': 'Foreign Fortune Collection Joggers- Adult - XS / Red / Hood', 'public_title': 'XS / Red / Hood', 'options': ['XS', 'Red', 'Hood'], 'price': 18000, 'weight': 0, 'compare_at_price': None, 'inventory_management': 'shopify', 'barcode': '', 'requires_selling_plan': False, 'selling_plan_allocations': []}\n",
      "{'id': 41417728065729, 'title': 'XS / Red / Crewneck', 'option1': 'XS', 'option2': 'Red', 'option3': 'Crewneck', 'sku': '', 'requires_shipping': True, 'taxable': True, 'featured_image': None, 'available': True, 'name': 'Foreign Fortune Collection Joggers- Adult - XS / Red / Crewneck', 'public_title': 'XS / Red / Crewneck', 'options': ['XS', 'Red', 'Crewneck'], 'price': 18000, 'weight': 0, 'compare_at_price': None, 'inventory_management': 'shopify', 'barcode': '', 'requires_selling_plan': False, 'selling_plan_allocations': []}\n",
      "{'id': 41417728098497, 'title': 'XS / Yellow / Hood', 'option1': 'XS', 'option2': 'Yellow', 'option3': 'Hood', 'sku': '', 'requires_shipping': True, 'taxable': True, 'featured_image': None, 'available': True, 'name': 'Foreign Fortune Collection Joggers- Adult - XS / Yellow / Hood', 'public_title': 'XS / Yellow / Hood', 'options': ['XS', 'Yellow', 'Hood'], 'price': 18000, 'weight': 0, 'compare_at_price': None, 'inventory_management': 'shopify', 'barcode': '', 'requires_selling_plan': False, 'selling_plan_allocations': []}\n",
      "{'id': 41417728131265, 'title': 'XS / Yellow / Crewneck', 'option1': 'XS', 'option2': 'Yellow', 'option3': 'Crewneck', 'sku': '', 'requires_shipping': True, 'taxable': True, 'featured_image': None, 'available': True, 'name': 'Foreign Fortune Collection Joggers- Adult - XS / Yellow / Crewneck', 'public_title': 'XS / Yellow / Crewneck', 'options': ['XS', 'Yellow', 'Crewneck'], 'price': 18000, 'weight': 0, 'compare_at_price': None, 'inventory_management': 'shopify', 'barcode': '', 'requires_selling_plan': False, 'selling_plan_allocations': []}\n",
      "{'id': 41228637241537, 'title': 'M / Black / Hood', 'option1': 'M', 'option2': 'Black', 'option3': 'Hood', 'sku': '', 'requires_shipping': True, 'taxable': True, 'featured_image': None, 'available': True, 'name': 'Foreign Fortune Collection Joggers- Adult - M / Black / Hood', 'public_title': 'M / Black / Hood', 'options': ['M', 'Black', 'Hood'], 'price': 18000, 'weight': 0, 'compare_at_price': None, 'inventory_management': 'shopify', 'barcode': '', 'requires_selling_plan': False, 'selling_plan_allocations': []}\n",
      "{'id': 41228874776769, 'title': 'M / Black / Crewneck', 'option1': 'M', 'option2': 'Black', 'option3': 'Crewneck', 'sku': '', 'requires_shipping': True, 'taxable': True, 'featured_image': None, 'available': True, 'name': 'Foreign Fortune Collection Joggers- Adult - M / Black / Crewneck', 'public_title': 'M / Black / Crewneck', 'options': ['M', 'Black', 'Crewneck'], 'price': 18000, 'weight': 0, 'compare_at_price': None, 'inventory_management': 'shopify', 'barcode': '', 'requires_selling_plan': False, 'selling_plan_allocations': []}\n",
      "{'id': 41228637274305, 'title': 'M / Green / Hood', 'option1': 'M', 'option2': 'Green', 'option3': 'Hood', 'sku': '', 'requires_shipping': True, 'taxable': True, 'featured_image': None, 'available': True, 'name': 'Foreign Fortune Collection Joggers- Adult - M / Green / Hood', 'public_title': 'M / Green / Hood', 'options': ['M', 'Green', 'Hood'], 'price': 18000, 'weight': 0, 'compare_at_price': None, 'inventory_management': 'shopify', 'barcode': '', 'requires_selling_plan': False, 'selling_plan_allocations': []}\n",
      "{'id': 41228874809537, 'title': 'M / Green / Crewneck', 'option1': 'M', 'option2': 'Green', 'option3': 'Crewneck', 'sku': '', 'requires_shipping': True, 'taxable': True, 'featured_image': None, 'available': True, 'name': 'Foreign Fortune Collection Joggers- Adult - M / Green / Crewneck', 'public_title': 'M / Green / Crewneck', 'options': ['M', 'Green', 'Crewneck'], 'price': 18000, 'weight': 0, 'compare_at_price': None, 'inventory_management': 'shopify', 'barcode': '', 'requires_selling_plan': False, 'selling_plan_allocations': []}\n",
      "{'id': 41228637405377, 'title': 'M / Grey / Hood', 'option1': 'M', 'option2': 'Grey', 'option3': 'Hood', 'sku': '', 'requires_shipping': True, 'taxable': True, 'featured_image': None, 'available': True, 'name': 'Foreign Fortune Collection Joggers- Adult - M / Grey / Hood', 'public_title': 'M / Grey / Hood', 'options': ['M', 'Grey', 'Hood'], 'price': 18000, 'weight': 0, 'compare_at_price': None, 'inventory_management': 'shopify', 'barcode': '', 'requires_selling_plan': False, 'selling_plan_allocations': []}\n",
      "{'id': 41228874907841, 'title': 'M / Grey / Crewneck', 'option1': 'M', 'option2': 'Grey', 'option3': 'Crewneck', 'sku': '', 'requires_shipping': True, 'taxable': True, 'featured_image': None, 'available': True, 'name': 'Foreign Fortune Collection Joggers- Adult - M / Grey / Crewneck', 'public_title': 'M / Grey / Crewneck', 'options': ['M', 'Grey', 'Crewneck'], 'price': 18000, 'weight': 0, 'compare_at_price': None, 'inventory_management': 'shopify', 'barcode': '', 'requires_selling_plan': False, 'selling_plan_allocations': []}\n",
      "{'id': 41417728164033, 'title': 'M / Navy Blue / Hood', 'option1': 'M', 'option2': 'Navy Blue', 'option3': 'Hood', 'sku': '', 'requires_shipping': True, 'taxable': True, 'featured_image': None, 'available': True, 'name': 'Foreign Fortune Collection Joggers- Adult - M / Navy Blue / Hood', 'public_title': 'M / Navy Blue / Hood', 'options': ['M', 'Navy Blue', 'Hood'], 'price': 18000, 'weight': 0, 'compare_at_price': None, 'inventory_management': 'shopify', 'barcode': '', 'requires_selling_plan': False, 'selling_plan_allocations': []}\n",
      "{'id': 41417728196801, 'title': 'M / Navy Blue / Crewneck', 'option1': 'M', 'option2': 'Navy Blue', 'option3': 'Crewneck', 'sku': '', 'requires_shipping': True, 'taxable': True, 'featured_image': None, 'available': True, 'name': 'Foreign Fortune Collection Joggers- Adult - M / Navy Blue / Crewneck', 'public_title': 'M / Navy Blue / Crewneck', 'options': ['M', 'Navy Blue', 'Crewneck'], 'price': 18000, 'weight': 0, 'compare_at_price': None, 'inventory_management': 'shopify', 'barcode': '', 'requires_selling_plan': False, 'selling_plan_allocations': []}\n",
      "{'id': 41417728229569, 'title': 'M / Red / Hood', 'option1': 'M', 'option2': 'Red', 'option3': 'Hood', 'sku': '', 'requires_shipping': True, 'taxable': True, 'featured_image': None, 'available': True, 'name': 'Foreign Fortune Collection Joggers- Adult - M / Red / Hood', 'public_title': 'M / Red / Hood', 'options': ['M', 'Red', 'Hood'], 'price': 18000, 'weight': 0, 'compare_at_price': None, 'inventory_management': 'shopify', 'barcode': '', 'requires_selling_plan': False, 'selling_plan_allocations': []}\n",
      "{'id': 41417728262337, 'title': 'M / Red / Crewneck', 'option1': 'M', 'option2': 'Red', 'option3': 'Crewneck', 'sku': '', 'requires_shipping': True, 'taxable': True, 'featured_image': None, 'available': True, 'name': 'Foreign Fortune Collection Joggers- Adult - M / Red / Crewneck', 'public_title': 'M / Red / Crewneck', 'options': ['M', 'Red', 'Crewneck'], 'price': 18000, 'weight': 0, 'compare_at_price': None, 'inventory_management': 'shopify', 'barcode': '', 'requires_selling_plan': False, 'selling_plan_allocations': []}\n",
      "{'id': 41417728295105, 'title': 'M / Yellow / Hood', 'option1': 'M', 'option2': 'Yellow', 'option3': 'Hood', 'sku': '', 'requires_shipping': True, 'taxable': True, 'featured_image': None, 'available': True, 'name': 'Foreign Fortune Collection Joggers- Adult - M / Yellow / Hood', 'public_title': 'M / Yellow / Hood', 'options': ['M', 'Yellow', 'Hood'], 'price': 18000, 'weight': 0, 'compare_at_price': None, 'inventory_management': 'shopify', 'barcode': '', 'requires_selling_plan': False, 'selling_plan_allocations': []}\n",
      "{'id': 41417728327873, 'title': 'M / Yellow / Crewneck', 'option1': 'M', 'option2': 'Yellow', 'option3': 'Crewneck', 'sku': '', 'requires_shipping': True, 'taxable': True, 'featured_image': None, 'available': True, 'name': 'Foreign Fortune Collection Joggers- Adult - M / Yellow / Crewneck', 'public_title': 'M / Yellow / Crewneck', 'options': ['M', 'Yellow', 'Crewneck'], 'price': 18000, 'weight': 0, 'compare_at_price': None, 'inventory_management': 'shopify', 'barcode': '', 'requires_selling_plan': False, 'selling_plan_allocations': []}\n",
      "{'id': 41228637438145, 'title': 'L / Black / Hood', 'option1': 'L', 'option2': 'Black', 'option3': 'Hood', 'sku': '', 'requires_shipping': True, 'taxable': True, 'featured_image': None, 'available': True, 'name': 'Foreign Fortune Collection Joggers- Adult - L / Black / Hood', 'public_title': 'L / Black / Hood', 'options': ['L', 'Black', 'Hood'], 'price': 18000, 'weight': 0, 'compare_at_price': None, 'inventory_management': 'shopify', 'barcode': '', 'requires_selling_plan': False, 'selling_plan_allocations': []}\n",
      "{'id': 41228874940609, 'title': 'L / Black / Crewneck', 'option1': 'L', 'option2': 'Black', 'option3': 'Crewneck', 'sku': '', 'requires_shipping': True, 'taxable': True, 'featured_image': None, 'available': True, 'name': 'Foreign Fortune Collection Joggers- Adult - L / Black / Crewneck', 'public_title': 'L / Black / Crewneck', 'options': ['L', 'Black', 'Crewneck'], 'price': 18000, 'weight': 0, 'compare_at_price': None, 'inventory_management': 'shopify', 'barcode': '', 'requires_selling_plan': False, 'selling_plan_allocations': []}\n",
      "{'id': 41228637470913, 'title': 'L / Green / Hood', 'option1': 'L', 'option2': 'Green', 'option3': 'Hood', 'sku': '', 'requires_shipping': True, 'taxable': True, 'featured_image': None, 'available': True, 'name': 'Foreign Fortune Collection Joggers- Adult - L / Green / Hood', 'public_title': 'L / Green / Hood', 'options': ['L', 'Green', 'Hood'], 'price': 18000, 'weight': 0, 'compare_at_price': None, 'inventory_management': 'shopify', 'barcode': '', 'requires_selling_plan': False, 'selling_plan_allocations': []}\n",
      "{'id': 41228874973377, 'title': 'L / Green / Crewneck', 'option1': 'L', 'option2': 'Green', 'option3': 'Crewneck', 'sku': '', 'requires_shipping': True, 'taxable': True, 'featured_image': None, 'available': True, 'name': 'Foreign Fortune Collection Joggers- Adult - L / Green / Crewneck', 'public_title': 'L / Green / Crewneck', 'options': ['L', 'Green', 'Crewneck'], 'price': 18000, 'weight': 0, 'compare_at_price': None, 'inventory_management': 'shopify', 'barcode': '', 'requires_selling_plan': False, 'selling_plan_allocations': []}\n",
      "{'id': 41228637569217, 'title': 'L / Grey / Hood', 'option1': 'L', 'option2': 'Grey', 'option3': 'Hood', 'sku': '', 'requires_shipping': True, 'taxable': True, 'featured_image': None, 'available': True, 'name': 'Foreign Fortune Collection Joggers- Adult - L / Grey / Hood', 'public_title': 'L / Grey / Hood', 'options': ['L', 'Grey', 'Hood'], 'price': 18000, 'weight': 0, 'compare_at_price': None, 'inventory_management': 'shopify', 'barcode': '', 'requires_selling_plan': False, 'selling_plan_allocations': []}\n",
      "{'id': 41228875071681, 'title': 'L / Grey / Crewneck', 'option1': 'L', 'option2': 'Grey', 'option3': 'Crewneck', 'sku': '', 'requires_shipping': True, 'taxable': True, 'featured_image': None, 'available': True, 'name': 'Foreign Fortune Collection Joggers- Adult - L / Grey / Crewneck', 'public_title': 'L / Grey / Crewneck', 'options': ['L', 'Grey', 'Crewneck'], 'price': 18000, 'weight': 0, 'compare_at_price': None, 'inventory_management': 'shopify', 'barcode': '', 'requires_selling_plan': False, 'selling_plan_allocations': []}\n",
      "{'id': 41417728360641, 'title': 'L / Navy Blue / Hood', 'option1': 'L', 'option2': 'Navy Blue', 'option3': 'Hood', 'sku': '', 'requires_shipping': True, 'taxable': True, 'featured_image': None, 'available': True, 'name': 'Foreign Fortune Collection Joggers- Adult - L / Navy Blue / Hood', 'public_title': 'L / Navy Blue / Hood', 'options': ['L', 'Navy Blue', 'Hood'], 'price': 18000, 'weight': 0, 'compare_at_price': None, 'inventory_management': 'shopify', 'barcode': '', 'requires_selling_plan': False, 'selling_plan_allocations': []}\n",
      "{'id': 41417728393409, 'title': 'L / Navy Blue / Crewneck', 'option1': 'L', 'option2': 'Navy Blue', 'option3': 'Crewneck', 'sku': '', 'requires_shipping': True, 'taxable': True, 'featured_image': None, 'available': True, 'name': 'Foreign Fortune Collection Joggers- Adult - L / Navy Blue / Crewneck', 'public_title': 'L / Navy Blue / Crewneck', 'options': ['L', 'Navy Blue', 'Crewneck'], 'price': 18000, 'weight': 0, 'compare_at_price': None, 'inventory_management': 'shopify', 'barcode': '', 'requires_selling_plan': False, 'selling_plan_allocations': []}\n",
      "{'id': 41417728426177, 'title': 'L / Red / Hood', 'option1': 'L', 'option2': 'Red', 'option3': 'Hood', 'sku': '', 'requires_shipping': True, 'taxable': True, 'featured_image': None, 'available': True, 'name': 'Foreign Fortune Collection Joggers- Adult - L / Red / Hood', 'public_title': 'L / Red / Hood', 'options': ['L', 'Red', 'Hood'], 'price': 18000, 'weight': 0, 'compare_at_price': None, 'inventory_management': 'shopify', 'barcode': '', 'requires_selling_plan': False, 'selling_plan_allocations': []}\n",
      "{'id': 41417728458945, 'title': 'L / Red / Crewneck', 'option1': 'L', 'option2': 'Red', 'option3': 'Crewneck', 'sku': '', 'requires_shipping': True, 'taxable': True, 'featured_image': None, 'available': True, 'name': 'Foreign Fortune Collection Joggers- Adult - L / Red / Crewneck', 'public_title': 'L / Red / Crewneck', 'options': ['L', 'Red', 'Crewneck'], 'price': 18000, 'weight': 0, 'compare_at_price': None, 'inventory_management': 'shopify', 'barcode': '', 'requires_selling_plan': False, 'selling_plan_allocations': []}\n",
      "{'id': 41417728491713, 'title': 'L / Yellow / Hood', 'option1': 'L', 'option2': 'Yellow', 'option3': 'Hood', 'sku': '', 'requires_shipping': True, 'taxable': True, 'featured_image': None, 'available': True, 'name': 'Foreign Fortune Collection Joggers- Adult - L / Yellow / Hood', 'public_title': 'L / Yellow / Hood', 'options': ['L', 'Yellow', 'Hood'], 'price': 18000, 'weight': 0, 'compare_at_price': None, 'inventory_management': 'shopify', 'barcode': '', 'requires_selling_plan': False, 'selling_plan_allocations': []}\n",
      "{'id': 41417728524481, 'title': 'L / Yellow / Crewneck', 'option1': 'L', 'option2': 'Yellow', 'option3': 'Crewneck', 'sku': '', 'requires_shipping': True, 'taxable': True, 'featured_image': None, 'available': True, 'name': 'Foreign Fortune Collection Joggers- Adult - L / Yellow / Crewneck', 'public_title': 'L / Yellow / Crewneck', 'options': ['L', 'Yellow', 'Crewneck'], 'price': 18000, 'weight': 0, 'compare_at_price': None, 'inventory_management': 'shopify', 'barcode': '', 'requires_selling_plan': False, 'selling_plan_allocations': []}\n",
      "{'id': 41228637601985, 'title': 'XL / Black / Hood', 'option1': 'XL', 'option2': 'Black', 'option3': 'Hood', 'sku': '', 'requires_shipping': True, 'taxable': True, 'featured_image': None, 'available': True, 'name': 'Foreign Fortune Collection Joggers- Adult - XL / Black / Hood', 'public_title': 'XL / Black / Hood', 'options': ['XL', 'Black', 'Hood'], 'price': 18000, 'weight': 0, 'compare_at_price': None, 'inventory_management': 'shopify', 'barcode': '', 'requires_selling_plan': False, 'selling_plan_allocations': []}\n",
      "{'id': 41228875104449, 'title': 'XL / Black / Crewneck', 'option1': 'XL', 'option2': 'Black', 'option3': 'Crewneck', 'sku': '', 'requires_shipping': True, 'taxable': True, 'featured_image': None, 'available': True, 'name': 'Foreign Fortune Collection Joggers- Adult - XL / Black / Crewneck', 'public_title': 'XL / Black / Crewneck', 'options': ['XL', 'Black', 'Crewneck'], 'price': 18000, 'weight': 0, 'compare_at_price': None, 'inventory_management': 'shopify', 'barcode': '', 'requires_selling_plan': False, 'selling_plan_allocations': []}\n",
      "{'id': 41228637634753, 'title': 'XL / Green / Hood', 'option1': 'XL', 'option2': 'Green', 'option3': 'Hood', 'sku': '', 'requires_shipping': True, 'taxable': True, 'featured_image': None, 'available': True, 'name': 'Foreign Fortune Collection Joggers- Adult - XL / Green / Hood', 'public_title': 'XL / Green / Hood', 'options': ['XL', 'Green', 'Hood'], 'price': 18000, 'weight': 0, 'compare_at_price': None, 'inventory_management': 'shopify', 'barcode': '', 'requires_selling_plan': False, 'selling_plan_allocations': []}\n",
      "{'id': 41228875137217, 'title': 'XL / Green / Crewneck', 'option1': 'XL', 'option2': 'Green', 'option3': 'Crewneck', 'sku': '', 'requires_shipping': True, 'taxable': True, 'featured_image': None, 'available': True, 'name': 'Foreign Fortune Collection Joggers- Adult - XL / Green / Crewneck', 'public_title': 'XL / Green / Crewneck', 'options': ['XL', 'Green', 'Crewneck'], 'price': 18000, 'weight': 0, 'compare_at_price': None, 'inventory_management': 'shopify', 'barcode': '', 'requires_selling_plan': False, 'selling_plan_allocations': []}\n",
      "{'id': 41228637733057, 'title': 'XL / Grey / Hood', 'option1': 'XL', 'option2': 'Grey', 'option3': 'Hood', 'sku': '', 'requires_shipping': True, 'taxable': True, 'featured_image': None, 'available': True, 'name': 'Foreign Fortune Collection Joggers- Adult - XL / Grey / Hood', 'public_title': 'XL / Grey / Hood', 'options': ['XL', 'Grey', 'Hood'], 'price': 18000, 'weight': 0, 'compare_at_price': None, 'inventory_management': 'shopify', 'barcode': '', 'requires_selling_plan': False, 'selling_plan_allocations': []}\n",
      "{'id': 41228875301057, 'title': 'XL / Grey / Crewneck', 'option1': 'XL', 'option2': 'Grey', 'option3': 'Crewneck', 'sku': '', 'requires_shipping': True, 'taxable': True, 'featured_image': None, 'available': True, 'name': 'Foreign Fortune Collection Joggers- Adult - XL / Grey / Crewneck', 'public_title': 'XL / Grey / Crewneck', 'options': ['XL', 'Grey', 'Crewneck'], 'price': 18000, 'weight': 0, 'compare_at_price': None, 'inventory_management': 'shopify', 'barcode': '', 'requires_selling_plan': False, 'selling_plan_allocations': []}\n",
      "{'id': 41417728557249, 'title': 'XL / Navy Blue / Hood', 'option1': 'XL', 'option2': 'Navy Blue', 'option3': 'Hood', 'sku': '', 'requires_shipping': True, 'taxable': True, 'featured_image': None, 'available': True, 'name': 'Foreign Fortune Collection Joggers- Adult - XL / Navy Blue / Hood', 'public_title': 'XL / Navy Blue / Hood', 'options': ['XL', 'Navy Blue', 'Hood'], 'price': 18000, 'weight': 0, 'compare_at_price': None, 'inventory_management': 'shopify', 'barcode': '', 'requires_selling_plan': False, 'selling_plan_allocations': []}\n",
      "{'id': 41417728590017, 'title': 'XL / Navy Blue / Crewneck', 'option1': 'XL', 'option2': 'Navy Blue', 'option3': 'Crewneck', 'sku': '', 'requires_shipping': True, 'taxable': True, 'featured_image': None, 'available': True, 'name': 'Foreign Fortune Collection Joggers- Adult - XL / Navy Blue / Crewneck', 'public_title': 'XL / Navy Blue / Crewneck', 'options': ['XL', 'Navy Blue', 'Crewneck'], 'price': 18000, 'weight': 0, 'compare_at_price': None, 'inventory_management': 'shopify', 'barcode': '', 'requires_selling_plan': False, 'selling_plan_allocations': []}\n",
      "{'id': 41417728622785, 'title': 'XL / Red / Hood', 'option1': 'XL', 'option2': 'Red', 'option3': 'Hood', 'sku': '', 'requires_shipping': True, 'taxable': True, 'featured_image': None, 'available': True, 'name': 'Foreign Fortune Collection Joggers- Adult - XL / Red / Hood', 'public_title': 'XL / Red / Hood', 'options': ['XL', 'Red', 'Hood'], 'price': 18000, 'weight': 0, 'compare_at_price': None, 'inventory_management': 'shopify', 'barcode': '', 'requires_selling_plan': False, 'selling_plan_allocations': []}\n",
      "{'id': 41417728655553, 'title': 'XL / Red / Crewneck', 'option1': 'XL', 'option2': 'Red', 'option3': 'Crewneck', 'sku': '', 'requires_shipping': True, 'taxable': True, 'featured_image': None, 'available': True, 'name': 'Foreign Fortune Collection Joggers- Adult - XL / Red / Crewneck', 'public_title': 'XL / Red / Crewneck', 'options': ['XL', 'Red', 'Crewneck'], 'price': 18000, 'weight': 0, 'compare_at_price': None, 'inventory_management': 'shopify', 'barcode': '', 'requires_selling_plan': False, 'selling_plan_allocations': []}\n",
      "{'id': 41417728688321, 'title': 'XL / Yellow / Hood', 'option1': 'XL', 'option2': 'Yellow', 'option3': 'Hood', 'sku': '', 'requires_shipping': True, 'taxable': True, 'featured_image': None, 'available': True, 'name': 'Foreign Fortune Collection Joggers- Adult - XL / Yellow / Hood', 'public_title': 'XL / Yellow / Hood', 'options': ['XL', 'Yellow', 'Hood'], 'price': 18000, 'weight': 0, 'compare_at_price': None, 'inventory_management': 'shopify', 'barcode': '', 'requires_selling_plan': False, 'selling_plan_allocations': []}\n",
      "{'id': 41417728721089, 'title': 'XL / Yellow / Crewneck', 'option1': 'XL', 'option2': 'Yellow', 'option3': 'Crewneck', 'sku': '', 'requires_shipping': True, 'taxable': True, 'featured_image': None, 'available': True, 'name': 'Foreign Fortune Collection Joggers- Adult - XL / Yellow / Crewneck', 'public_title': 'XL / Yellow / Crewneck', 'options': ['XL', 'Yellow', 'Crewneck'], 'price': 18000, 'weight': 0, 'compare_at_price': None, 'inventory_management': 'shopify', 'barcode': '', 'requires_selling_plan': False, 'selling_plan_allocations': []}\n",
      "{'id': 41228637765825, 'title': '2X / Black / Hood', 'option1': '2X', 'option2': 'Black', 'option3': 'Hood', 'sku': '', 'requires_shipping': True, 'taxable': True, 'featured_image': None, 'available': True, 'name': 'Foreign Fortune Collection Joggers- Adult - 2X / Black / Hood', 'public_title': '2X / Black / Hood', 'options': ['2X', 'Black', 'Hood'], 'price': 18000, 'weight': 0, 'compare_at_price': None, 'inventory_management': 'shopify', 'barcode': '', 'requires_selling_plan': False, 'selling_plan_allocations': []}\n",
      "{'id': 41228875333825, 'title': '2X / Black / Crewneck', 'option1': '2X', 'option2': 'Black', 'option3': 'Crewneck', 'sku': '', 'requires_shipping': True, 'taxable': True, 'featured_image': None, 'available': True, 'name': 'Foreign Fortune Collection Joggers- Adult - 2X / Black / Crewneck', 'public_title': '2X / Black / Crewneck', 'options': ['2X', 'Black', 'Crewneck'], 'price': 18000, 'weight': 0, 'compare_at_price': None, 'inventory_management': 'shopify', 'barcode': '', 'requires_selling_plan': False, 'selling_plan_allocations': []}\n",
      "{'id': 41228637798593, 'title': '2X / Green / Hood', 'option1': '2X', 'option2': 'Green', 'option3': 'Hood', 'sku': '', 'requires_shipping': True, 'taxable': True, 'featured_image': None, 'available': True, 'name': 'Foreign Fortune Collection Joggers- Adult - 2X / Green / Hood', 'public_title': '2X / Green / Hood', 'options': ['2X', 'Green', 'Hood'], 'price': 18000, 'weight': 0, 'compare_at_price': None, 'inventory_management': 'shopify', 'barcode': '', 'requires_selling_plan': False, 'selling_plan_allocations': []}\n",
      "{'id': 41228875366593, 'title': '2X / Green / Crewneck', 'option1': '2X', 'option2': 'Green', 'option3': 'Crewneck', 'sku': '', 'requires_shipping': True, 'taxable': True, 'featured_image': None, 'available': True, 'name': 'Foreign Fortune Collection Joggers- Adult - 2X / Green / Crewneck', 'public_title': '2X / Green / Crewneck', 'options': ['2X', 'Green', 'Crewneck'], 'price': 18000, 'weight': 0, 'compare_at_price': None, 'inventory_management': 'shopify', 'barcode': '', 'requires_selling_plan': False, 'selling_plan_allocations': []}\n",
      "{'id': 41228637896897, 'title': '2X / Grey / Hood', 'option1': '2X', 'option2': 'Grey', 'option3': 'Hood', 'sku': '', 'requires_shipping': True, 'taxable': True, 'featured_image': None, 'available': True, 'name': 'Foreign Fortune Collection Joggers- Adult - 2X / Grey / Hood', 'public_title': '2X / Grey / Hood', 'options': ['2X', 'Grey', 'Hood'], 'price': 18000, 'weight': 0, 'compare_at_price': None, 'inventory_management': 'shopify', 'barcode': '', 'requires_selling_plan': False, 'selling_plan_allocations': []}\n",
      "{'id': 41228875464897, 'title': '2X / Grey / Crewneck', 'option1': '2X', 'option2': 'Grey', 'option3': 'Crewneck', 'sku': '', 'requires_shipping': True, 'taxable': True, 'featured_image': None, 'available': True, 'name': 'Foreign Fortune Collection Joggers- Adult - 2X / Grey / Crewneck', 'public_title': '2X / Grey / Crewneck', 'options': ['2X', 'Grey', 'Crewneck'], 'price': 18000, 'weight': 0, 'compare_at_price': None, 'inventory_management': 'shopify', 'barcode': '', 'requires_selling_plan': False, 'selling_plan_allocations': []}\n",
      "{'id': 41417728753857, 'title': '2X / Navy Blue / Hood', 'option1': '2X', 'option2': 'Navy Blue', 'option3': 'Hood', 'sku': '', 'requires_shipping': True, 'taxable': True, 'featured_image': None, 'available': True, 'name': 'Foreign Fortune Collection Joggers- Adult - 2X / Navy Blue / Hood', 'public_title': '2X / Navy Blue / Hood', 'options': ['2X', 'Navy Blue', 'Hood'], 'price': 18000, 'weight': 0, 'compare_at_price': None, 'inventory_management': 'shopify', 'barcode': '', 'requires_selling_plan': False, 'selling_plan_allocations': []}\n",
      "{'id': 41417728786625, 'title': '2X / Navy Blue / Crewneck', 'option1': '2X', 'option2': 'Navy Blue', 'option3': 'Crewneck', 'sku': '', 'requires_shipping': True, 'taxable': True, 'featured_image': None, 'available': True, 'name': 'Foreign Fortune Collection Joggers- Adult - 2X / Navy Blue / Crewneck', 'public_title': '2X / Navy Blue / Crewneck', 'options': ['2X', 'Navy Blue', 'Crewneck'], 'price': 18000, 'weight': 0, 'compare_at_price': None, 'inventory_management': 'shopify', 'barcode': '', 'requires_selling_plan': False, 'selling_plan_allocations': []}\n",
      "{'id': 41417728819393, 'title': '2X / Red / Hood', 'option1': '2X', 'option2': 'Red', 'option3': 'Hood', 'sku': '', 'requires_shipping': True, 'taxable': True, 'featured_image': None, 'available': True, 'name': 'Foreign Fortune Collection Joggers- Adult - 2X / Red / Hood', 'public_title': '2X / Red / Hood', 'options': ['2X', 'Red', 'Hood'], 'price': 18000, 'weight': 0, 'compare_at_price': None, 'inventory_management': 'shopify', 'barcode': '', 'requires_selling_plan': False, 'selling_plan_allocations': []}\n",
      "{'id': 41417728852161, 'title': '2X / Red / Crewneck', 'option1': '2X', 'option2': 'Red', 'option3': 'Crewneck', 'sku': '', 'requires_shipping': True, 'taxable': True, 'featured_image': None, 'available': True, 'name': 'Foreign Fortune Collection Joggers- Adult - 2X / Red / Crewneck', 'public_title': '2X / Red / Crewneck', 'options': ['2X', 'Red', 'Crewneck'], 'price': 18000, 'weight': 0, 'compare_at_price': None, 'inventory_management': 'shopify', 'barcode': '', 'requires_selling_plan': False, 'selling_plan_allocations': []}\n",
      "{'id': 41417728884929, 'title': '2X / Yellow / Hood', 'option1': '2X', 'option2': 'Yellow', 'option3': 'Hood', 'sku': '', 'requires_shipping': True, 'taxable': True, 'featured_image': None, 'available': True, 'name': 'Foreign Fortune Collection Joggers- Adult - 2X / Yellow / Hood', 'public_title': '2X / Yellow / Hood', 'options': ['2X', 'Yellow', 'Hood'], 'price': 18000, 'weight': 0, 'compare_at_price': None, 'inventory_management': 'shopify', 'barcode': '', 'requires_selling_plan': False, 'selling_plan_allocations': []}\n",
      "{'id': 41417728917697, 'title': '2X / Yellow / Crewneck', 'option1': '2X', 'option2': 'Yellow', 'option3': 'Crewneck', 'sku': '', 'requires_shipping': True, 'taxable': True, 'featured_image': None, 'available': True, 'name': 'Foreign Fortune Collection Joggers- Adult - 2X / Yellow / Crewneck', 'public_title': '2X / Yellow / Crewneck', 'options': ['2X', 'Yellow', 'Crewneck'], 'price': 18000, 'weight': 0, 'compare_at_price': None, 'inventory_management': 'shopify', 'barcode': '', 'requires_selling_plan': False, 'selling_plan_allocations': []}\n",
      "{'id': 41228637929665, 'title': '3X / Black / Hood', 'option1': '3X', 'option2': 'Black', 'option3': 'Hood', 'sku': '', 'requires_shipping': True, 'taxable': True, 'featured_image': None, 'available': True, 'name': 'Foreign Fortune Collection Joggers- Adult - 3X / Black / Hood', 'public_title': '3X / Black / Hood', 'options': ['3X', 'Black', 'Hood'], 'price': 18000, 'weight': 0, 'compare_at_price': None, 'inventory_management': 'shopify', 'barcode': '', 'requires_selling_plan': False, 'selling_plan_allocations': []}\n",
      "{'id': 41228875497665, 'title': '3X / Black / Crewneck', 'option1': '3X', 'option2': 'Black', 'option3': 'Crewneck', 'sku': '', 'requires_shipping': True, 'taxable': True, 'featured_image': None, 'available': True, 'name': 'Foreign Fortune Collection Joggers- Adult - 3X / Black / Crewneck', 'public_title': '3X / Black / Crewneck', 'options': ['3X', 'Black', 'Crewneck'], 'price': 18000, 'weight': 0, 'compare_at_price': None, 'inventory_management': 'shopify', 'barcode': '', 'requires_selling_plan': False, 'selling_plan_allocations': []}\n",
      "{'id': 41228637962433, 'title': '3X / Green / Hood', 'option1': '3X', 'option2': 'Green', 'option3': 'Hood', 'sku': '', 'requires_shipping': True, 'taxable': True, 'featured_image': None, 'available': True, 'name': 'Foreign Fortune Collection Joggers- Adult - 3X / Green / Hood', 'public_title': '3X / Green / Hood', 'options': ['3X', 'Green', 'Hood'], 'price': 18000, 'weight': 0, 'compare_at_price': None, 'inventory_management': 'shopify', 'barcode': '', 'requires_selling_plan': False, 'selling_plan_allocations': []}\n",
      "{'id': 41228875530433, 'title': '3X / Green / Crewneck', 'option1': '3X', 'option2': 'Green', 'option3': 'Crewneck', 'sku': '', 'requires_shipping': True, 'taxable': True, 'featured_image': None, 'available': True, 'name': 'Foreign Fortune Collection Joggers- Adult - 3X / Green / Crewneck', 'public_title': '3X / Green / Crewneck', 'options': ['3X', 'Green', 'Crewneck'], 'price': 18000, 'weight': 0, 'compare_at_price': None, 'inventory_management': 'shopify', 'barcode': '', 'requires_selling_plan': False, 'selling_plan_allocations': []}\n",
      "{'id': 41228638060737, 'title': '3X / Grey / Hood', 'option1': '3X', 'option2': 'Grey', 'option3': 'Hood', 'sku': '', 'requires_shipping': True, 'taxable': True, 'featured_image': None, 'available': True, 'name': 'Foreign Fortune Collection Joggers- Adult - 3X / Grey / Hood', 'public_title': '3X / Grey / Hood', 'options': ['3X', 'Grey', 'Hood'], 'price': 18000, 'weight': 0, 'compare_at_price': None, 'inventory_management': 'shopify', 'barcode': '', 'requires_selling_plan': False, 'selling_plan_allocations': []}\n",
      "{'id': 41228875661505, 'title': '3X / Grey / Crewneck', 'option1': '3X', 'option2': 'Grey', 'option3': 'Crewneck', 'sku': '', 'requires_shipping': True, 'taxable': True, 'featured_image': None, 'available': True, 'name': 'Foreign Fortune Collection Joggers- Adult - 3X / Grey / Crewneck', 'public_title': '3X / Grey / Crewneck', 'options': ['3X', 'Grey', 'Crewneck'], 'price': 18000, 'weight': 0, 'compare_at_price': None, 'inventory_management': 'shopify', 'barcode': '', 'requires_selling_plan': False, 'selling_plan_allocations': []}\n",
      "{'id': 41417728950465, 'title': '3X / Navy Blue / Hood', 'option1': '3X', 'option2': 'Navy Blue', 'option3': 'Hood', 'sku': '', 'requires_shipping': True, 'taxable': True, 'featured_image': None, 'available': True, 'name': 'Foreign Fortune Collection Joggers- Adult - 3X / Navy Blue / Hood', 'public_title': '3X / Navy Blue / Hood', 'options': ['3X', 'Navy Blue', 'Hood'], 'price': 18000, 'weight': 0, 'compare_at_price': None, 'inventory_management': 'shopify', 'barcode': '', 'requires_selling_plan': False, 'selling_plan_allocations': []}\n",
      "{'id': 41417728983233, 'title': '3X / Navy Blue / Crewneck', 'option1': '3X', 'option2': 'Navy Blue', 'option3': 'Crewneck', 'sku': '', 'requires_shipping': True, 'taxable': True, 'featured_image': None, 'available': True, 'name': 'Foreign Fortune Collection Joggers- Adult - 3X / Navy Blue / Crewneck', 'public_title': '3X / Navy Blue / Crewneck', 'options': ['3X', 'Navy Blue', 'Crewneck'], 'price': 18000, 'weight': 0, 'compare_at_price': None, 'inventory_management': 'shopify', 'barcode': '', 'requires_selling_plan': False, 'selling_plan_allocations': []}\n",
      "{'id': 41417729016001, 'title': '3X / Red / Hood', 'option1': '3X', 'option2': 'Red', 'option3': 'Hood', 'sku': '', 'requires_shipping': True, 'taxable': True, 'featured_image': None, 'available': True, 'name': 'Foreign Fortune Collection Joggers- Adult - 3X / Red / Hood', 'public_title': '3X / Red / Hood', 'options': ['3X', 'Red', 'Hood'], 'price': 18000, 'weight': 0, 'compare_at_price': None, 'inventory_management': 'shopify', 'barcode': '', 'requires_selling_plan': False, 'selling_plan_allocations': []}\n",
      "{'id': 41417729048769, 'title': '3X / Red / Crewneck', 'option1': '3X', 'option2': 'Red', 'option3': 'Crewneck', 'sku': '', 'requires_shipping': True, 'taxable': True, 'featured_image': None, 'available': True, 'name': 'Foreign Fortune Collection Joggers- Adult - 3X / Red / Crewneck', 'public_title': '3X / Red / Crewneck', 'options': ['3X', 'Red', 'Crewneck'], 'price': 18000, 'weight': 0, 'compare_at_price': None, 'inventory_management': 'shopify', 'barcode': '', 'requires_selling_plan': False, 'selling_plan_allocations': []}\n",
      "{'id': 41417729081537, 'title': '3X / Yellow / Hood', 'option1': '3X', 'option2': 'Yellow', 'option3': 'Hood', 'sku': '', 'requires_shipping': True, 'taxable': True, 'featured_image': None, 'available': True, 'name': 'Foreign Fortune Collection Joggers- Adult - 3X / Yellow / Hood', 'public_title': '3X / Yellow / Hood', 'options': ['3X', 'Yellow', 'Hood'], 'price': 18000, 'weight': 0, 'compare_at_price': None, 'inventory_management': 'shopify', 'barcode': '', 'requires_selling_plan': False, 'selling_plan_allocations': []}\n",
      "{'id': 41417729114305, 'title': '3X / Yellow / Crewneck', 'option1': '3X', 'option2': 'Yellow', 'option3': 'Crewneck', 'sku': '', 'requires_shipping': True, 'taxable': True, 'featured_image': None, 'available': True, 'name': 'Foreign Fortune Collection Joggers- Adult - 3X / Yellow / Crewneck', 'public_title': '3X / Yellow / Crewneck', 'options': ['3X', 'Yellow', 'Crewneck'], 'price': 18000, 'weight': 0, 'compare_at_price': None, 'inventory_management': 'shopify', 'barcode': '', 'requires_selling_plan': False, 'selling_plan_allocations': []}\n",
      "{'id': 41228638093505, 'title': '4X / Black / Hood', 'option1': '4X', 'option2': 'Black', 'option3': 'Hood', 'sku': '', 'requires_shipping': True, 'taxable': True, 'featured_image': None, 'available': True, 'name': 'Foreign Fortune Collection Joggers- Adult - 4X / Black / Hood', 'public_title': '4X / Black / Hood', 'options': ['4X', 'Black', 'Hood'], 'price': 18000, 'weight': 0, 'compare_at_price': None, 'inventory_management': 'shopify', 'barcode': '', 'requires_selling_plan': False, 'selling_plan_allocations': []}\n",
      "{'id': 41228875694273, 'title': '4X / Black / Crewneck', 'option1': '4X', 'option2': 'Black', 'option3': 'Crewneck', 'sku': '', 'requires_shipping': True, 'taxable': True, 'featured_image': None, 'available': True, 'name': 'Foreign Fortune Collection Joggers- Adult - 4X / Black / Crewneck', 'public_title': '4X / Black / Crewneck', 'options': ['4X', 'Black', 'Crewneck'], 'price': 18000, 'weight': 0, 'compare_at_price': None, 'inventory_management': 'shopify', 'barcode': '', 'requires_selling_plan': False, 'selling_plan_allocations': []}\n",
      "{'id': 41228638159041, 'title': '4X / Green / Hood', 'option1': '4X', 'option2': 'Green', 'option3': 'Hood', 'sku': '', 'requires_shipping': True, 'taxable': True, 'featured_image': None, 'available': True, 'name': 'Foreign Fortune Collection Joggers- Adult - 4X / Green / Hood', 'public_title': '4X / Green / Hood', 'options': ['4X', 'Green', 'Hood'], 'price': 18000, 'weight': 0, 'compare_at_price': None, 'inventory_management': 'shopify', 'barcode': '', 'requires_selling_plan': False, 'selling_plan_allocations': []}\n",
      "{'id': 41228875727041, 'title': '4X / Green / Crewneck', 'option1': '4X', 'option2': 'Green', 'option3': 'Crewneck', 'sku': '', 'requires_shipping': True, 'taxable': True, 'featured_image': None, 'available': True, 'name': 'Foreign Fortune Collection Joggers- Adult - 4X / Green / Crewneck', 'public_title': '4X / Green / Crewneck', 'options': ['4X', 'Green', 'Crewneck'], 'price': 18000, 'weight': 0, 'compare_at_price': None, 'inventory_management': 'shopify', 'barcode': '', 'requires_selling_plan': False, 'selling_plan_allocations': []}\n",
      "{'id': 41228638257345, 'title': '4X / Grey / Hood', 'option1': '4X', 'option2': 'Grey', 'option3': 'Hood', 'sku': '', 'requires_shipping': True, 'taxable': True, 'featured_image': None, 'available': True, 'name': 'Foreign Fortune Collection Joggers- Adult - 4X / Grey / Hood', 'public_title': '4X / Grey / Hood', 'options': ['4X', 'Grey', 'Hood'], 'price': 18000, 'weight': 0, 'compare_at_price': None, 'inventory_management': 'shopify', 'barcode': '', 'requires_selling_plan': False, 'selling_plan_allocations': []}\n",
      "{'id': 41228875825345, 'title': '4X / Grey / Crewneck', 'option1': '4X', 'option2': 'Grey', 'option3': 'Crewneck', 'sku': '', 'requires_shipping': True, 'taxable': True, 'featured_image': None, 'available': True, 'name': 'Foreign Fortune Collection Joggers- Adult - 4X / Grey / Crewneck', 'public_title': '4X / Grey / Crewneck', 'options': ['4X', 'Grey', 'Crewneck'], 'price': 18000, 'weight': 0, 'compare_at_price': None, 'inventory_management': 'shopify', 'barcode': '', 'requires_selling_plan': False, 'selling_plan_allocations': []}\n",
      "{'id': 41417729147073, 'title': '4X / Navy Blue / Hood', 'option1': '4X', 'option2': 'Navy Blue', 'option3': 'Hood', 'sku': '', 'requires_shipping': True, 'taxable': True, 'featured_image': None, 'available': True, 'name': 'Foreign Fortune Collection Joggers- Adult - 4X / Navy Blue / Hood', 'public_title': '4X / Navy Blue / Hood', 'options': ['4X', 'Navy Blue', 'Hood'], 'price': 18000, 'weight': 0, 'compare_at_price': None, 'inventory_management': 'shopify', 'barcode': '', 'requires_selling_plan': False, 'selling_plan_allocations': []}\n",
      "{'id': 41417729179841, 'title': '4X / Navy Blue / Crewneck', 'option1': '4X', 'option2': 'Navy Blue', 'option3': 'Crewneck', 'sku': '', 'requires_shipping': True, 'taxable': True, 'featured_image': None, 'available': True, 'name': 'Foreign Fortune Collection Joggers- Adult - 4X / Navy Blue / Crewneck', 'public_title': '4X / Navy Blue / Crewneck', 'options': ['4X', 'Navy Blue', 'Crewneck'], 'price': 18000, 'weight': 0, 'compare_at_price': None, 'inventory_management': 'shopify', 'barcode': '', 'requires_selling_plan': False, 'selling_plan_allocations': []}\n",
      "{'id': 41417729212609, 'title': '4X / Red / Hood', 'option1': '4X', 'option2': 'Red', 'option3': 'Hood', 'sku': '', 'requires_shipping': True, 'taxable': True, 'featured_image': None, 'available': True, 'name': 'Foreign Fortune Collection Joggers- Adult - 4X / Red / Hood', 'public_title': '4X / Red / Hood', 'options': ['4X', 'Red', 'Hood'], 'price': 18000, 'weight': 0, 'compare_at_price': None, 'inventory_management': 'shopify', 'barcode': '', 'requires_selling_plan': False, 'selling_plan_allocations': []}\n",
      "{'id': 41417729245377, 'title': '4X / Red / Crewneck', 'option1': '4X', 'option2': 'Red', 'option3': 'Crewneck', 'sku': '', 'requires_shipping': True, 'taxable': True, 'featured_image': None, 'available': True, 'name': 'Foreign Fortune Collection Joggers- Adult - 4X / Red / Crewneck', 'public_title': '4X / Red / Crewneck', 'options': ['4X', 'Red', 'Crewneck'], 'price': 18000, 'weight': 0, 'compare_at_price': None, 'inventory_management': 'shopify', 'barcode': '', 'requires_selling_plan': False, 'selling_plan_allocations': []}\n",
      "{'id': 41417729278145, 'title': '4X / Yellow / Hood', 'option1': '4X', 'option2': 'Yellow', 'option3': 'Hood', 'sku': '', 'requires_shipping': True, 'taxable': True, 'featured_image': None, 'available': True, 'name': 'Foreign Fortune Collection Joggers- Adult - 4X / Yellow / Hood', 'public_title': '4X / Yellow / Hood', 'options': ['4X', 'Yellow', 'Hood'], 'price': 18000, 'weight': 0, 'compare_at_price': None, 'inventory_management': 'shopify', 'barcode': '', 'requires_selling_plan': False, 'selling_plan_allocations': []}\n",
      "{'id': 41417729310913, 'title': '4X / Yellow / Crewneck', 'option1': '4X', 'option2': 'Yellow', 'option3': 'Crewneck', 'sku': '', 'requires_shipping': True, 'taxable': True, 'featured_image': None, 'available': True, 'name': 'Foreign Fortune Collection Joggers- Adult - 4X / Yellow / Crewneck', 'public_title': '4X / Yellow / Crewneck', 'options': ['4X', 'Yellow', 'Crewneck'], 'price': 18000, 'weight': 0, 'compare_at_price': None, 'inventory_management': 'shopify', 'barcode': '', 'requires_selling_plan': False, 'selling_plan_allocations': []}\n",
      "{'id': 41228638322881, 'title': '5X / Black / Hood', 'option1': '5X', 'option2': 'Black', 'option3': 'Hood', 'sku': '', 'requires_shipping': True, 'taxable': True, 'featured_image': None, 'available': True, 'name': 'Foreign Fortune Collection Joggers- Adult - 5X / Black / Hood', 'public_title': '5X / Black / Hood', 'options': ['5X', 'Black', 'Hood'], 'price': 18000, 'weight': 0, 'compare_at_price': None, 'inventory_management': 'shopify', 'barcode': '', 'requires_selling_plan': False, 'selling_plan_allocations': []}\n",
      "{'id': 41228875858113, 'title': '5X / Black / Crewneck', 'option1': '5X', 'option2': 'Black', 'option3': 'Crewneck', 'sku': '', 'requires_shipping': True, 'taxable': True, 'featured_image': None, 'available': True, 'name': 'Foreign Fortune Collection Joggers- Adult - 5X / Black / Crewneck', 'public_title': '5X / Black / Crewneck', 'options': ['5X', 'Black', 'Crewneck'], 'price': 18000, 'weight': 0, 'compare_at_price': None, 'inventory_management': 'shopify', 'barcode': '', 'requires_selling_plan': False, 'selling_plan_allocations': []}\n",
      "{'id': 41228638355649, 'title': '5X / Green / Hood', 'option1': '5X', 'option2': 'Green', 'option3': 'Hood', 'sku': '', 'requires_shipping': True, 'taxable': True, 'featured_image': None, 'available': True, 'name': 'Foreign Fortune Collection Joggers- Adult - 5X / Green / Hood', 'public_title': '5X / Green / Hood', 'options': ['5X', 'Green', 'Hood'], 'price': 18000, 'weight': 0, 'compare_at_price': None, 'inventory_management': 'shopify', 'barcode': '', 'requires_selling_plan': False, 'selling_plan_allocations': []}\n",
      "{'id': 41228875890881, 'title': '5X / Green / Crewneck', 'option1': '5X', 'option2': 'Green', 'option3': 'Crewneck', 'sku': '', 'requires_shipping': True, 'taxable': True, 'featured_image': None, 'available': True, 'name': 'Foreign Fortune Collection Joggers- Adult - 5X / Green / Crewneck', 'public_title': '5X / Green / Crewneck', 'options': ['5X', 'Green', 'Crewneck'], 'price': 18000, 'weight': 0, 'compare_at_price': None, 'inventory_management': 'shopify', 'barcode': '', 'requires_selling_plan': False, 'selling_plan_allocations': []}\n",
      "{'id': 41228638453953, 'title': '5X / Grey / Hood', 'option1': '5X', 'option2': 'Grey', 'option3': 'Hood', 'sku': '', 'requires_shipping': True, 'taxable': True, 'featured_image': None, 'available': True, 'name': 'Foreign Fortune Collection Joggers- Adult - 5X / Grey / Hood', 'public_title': '5X / Grey / Hood', 'options': ['5X', 'Grey', 'Hood'], 'price': 18000, 'weight': 0, 'compare_at_price': None, 'inventory_management': 'shopify', 'barcode': '', 'requires_selling_plan': False, 'selling_plan_allocations': []}\n",
      "{'id': 41228875989185, 'title': '5X / Grey / Crewneck', 'option1': '5X', 'option2': 'Grey', 'option3': 'Crewneck', 'sku': '', 'requires_shipping': True, 'taxable': True, 'featured_image': None, 'available': True, 'name': 'Foreign Fortune Collection Joggers- Adult - 5X / Grey / Crewneck', 'public_title': '5X / Grey / Crewneck', 'options': ['5X', 'Grey', 'Crewneck'], 'price': 18000, 'weight': 0, 'compare_at_price': None, 'inventory_management': 'shopify', 'barcode': '', 'requires_selling_plan': False, 'selling_plan_allocations': []}\n",
      "{'id': 41417729343681, 'title': '5X / Navy Blue / Hood', 'option1': '5X', 'option2': 'Navy Blue', 'option3': 'Hood', 'sku': '', 'requires_shipping': True, 'taxable': True, 'featured_image': None, 'available': True, 'name': 'Foreign Fortune Collection Joggers- Adult - 5X / Navy Blue / Hood', 'public_title': '5X / Navy Blue / Hood', 'options': ['5X', 'Navy Blue', 'Hood'], 'price': 18000, 'weight': 0, 'compare_at_price': None, 'inventory_management': 'shopify', 'barcode': '', 'requires_selling_plan': False, 'selling_plan_allocations': []}\n",
      "{'id': 41417729376449, 'title': '5X / Navy Blue / Crewneck', 'option1': '5X', 'option2': 'Navy Blue', 'option3': 'Crewneck', 'sku': '', 'requires_shipping': True, 'taxable': True, 'featured_image': None, 'available': True, 'name': 'Foreign Fortune Collection Joggers- Adult - 5X / Navy Blue / Crewneck', 'public_title': '5X / Navy Blue / Crewneck', 'options': ['5X', 'Navy Blue', 'Crewneck'], 'price': 18000, 'weight': 0, 'compare_at_price': None, 'inventory_management': 'shopify', 'barcode': '', 'requires_selling_plan': False, 'selling_plan_allocations': []}\n",
      "{'id': 41417729409217, 'title': '5X / Red / Hood', 'option1': '5X', 'option2': 'Red', 'option3': 'Hood', 'sku': '', 'requires_shipping': True, 'taxable': True, 'featured_image': None, 'available': True, 'name': 'Foreign Fortune Collection Joggers- Adult - 5X / Red / Hood', 'public_title': '5X / Red / Hood', 'options': ['5X', 'Red', 'Hood'], 'price': 18000, 'weight': 0, 'compare_at_price': None, 'inventory_management': 'shopify', 'barcode': '', 'requires_selling_plan': False, 'selling_plan_allocations': []}\n",
      "{'id': 41417729441985, 'title': '5X / Red / Crewneck', 'option1': '5X', 'option2': 'Red', 'option3': 'Crewneck', 'sku': '', 'requires_shipping': True, 'taxable': True, 'featured_image': None, 'available': True, 'name': 'Foreign Fortune Collection Joggers- Adult - 5X / Red / Crewneck', 'public_title': '5X / Red / Crewneck', 'options': ['5X', 'Red', 'Crewneck'], 'price': 18000, 'weight': 0, 'compare_at_price': None, 'inventory_management': 'shopify', 'barcode': '', 'requires_selling_plan': False, 'selling_plan_allocations': []}\n",
      "{'id': 41417729474753, 'title': '5X / Yellow / Hood', 'option1': '5X', 'option2': 'Yellow', 'option3': 'Hood', 'sku': '', 'requires_shipping': True, 'taxable': True, 'featured_image': None, 'available': True, 'name': 'Foreign Fortune Collection Joggers- Adult - 5X / Yellow / Hood', 'public_title': '5X / Yellow / Hood', 'options': ['5X', 'Yellow', 'Hood'], 'price': 18000, 'weight': 0, 'compare_at_price': None, 'inventory_management': 'shopify', 'barcode': '', 'requires_selling_plan': False, 'selling_plan_allocations': []}\n",
      "{'id': 41417729507521, 'title': '5X / Yellow / Crewneck', 'option1': '5X', 'option2': 'Yellow', 'option3': 'Crewneck', 'sku': '', 'requires_shipping': True, 'taxable': True, 'featured_image': None, 'available': True, 'name': 'Foreign Fortune Collection Joggers- Adult - 5X / Yellow / Crewneck', 'public_title': '5X / Yellow / Crewneck', 'options': ['5X', 'Yellow', 'Crewneck'], 'price': 18000, 'weight': 0, 'compare_at_price': None, 'inventory_management': 'shopify', 'barcode': '', 'requires_selling_plan': False, 'selling_plan_allocations': []}\n"
     ]
    },
    {
     "name": "stderr",
     "output_type": "stream",
     "text": [
      "/var/folders/41/pj31yp0949l7h3w7q1vn_84m0000gn/T/ipykernel_2827/2487049893.py:76: DeprecationWarning: The 'text' argument to find()-type methods is deprecated. Use 'string' instead.\n",
      "  script = body.find('script', text=lambda t: t and 'window.KlarnaThemeGlobals.productVariants' in t)\n"
     ]
    }
   ],
   "source": [
    "sscript = scrape_product(url)"
   ]
  },
  {
   "cell_type": "code",
   "execution_count": 191,
   "metadata": {},
   "outputs": [],
   "source": [
    "sscript"
   ]
  },
  {
   "cell_type": "code",
   "execution_count": 7,
   "metadata": {},
   "outputs": [],
   "source": [
    "import requests \n",
    "from bs4 import BeautifulSoup\n",
    "response = requests.get(\"https://www.lechocolat-alainducasse.com/uk/\")\n",
    "    \n",
    "# Parse the HTML content\n",
    "soup = BeautifulSoup(response.content, 'html.parser')\n",
    "div = soup.find_all('div',class_=\"siteMenuItem__wrapper\")[1]\n"
   ]
  },
  {
   "cell_type": "code",
   "execution_count": 12,
   "metadata": {},
   "outputs": [],
   "source": [
    "if div:\n",
    "    li = div.find_all('li', class_='siteMenuItem')\n",
    "    li"
   ]
  },
  {
   "cell_type": "code",
   "execution_count": 13,
   "metadata": {},
   "outputs": [
    {
     "data": {
      "text/plain": [
       "[<li class=\"siteMenuItem\" data-depth=\"3\">\n",
       " <a class=\"siteMenuItem__link\" data-depth=\"3\" href=\"https://www.lechocolat-alainducasse.com/uk/chocolates\">\n",
       " <span>Boxes</span>\n",
       " </a>\n",
       " </li>,\n",
       " <li class=\"siteMenuItem\" data-depth=\"3\">\n",
       " <a class=\"siteMenuItem__link\" data-depth=\"3\" href=\"https://www.lechocolat-alainducasse.com/uk/chocolate-gift\">\n",
       " <span>Gifts</span>\n",
       " </a>\n",
       " </li>,\n",
       " <li class=\"siteMenuItem\" data-depth=\"3\">\n",
       " <a class=\"siteMenuItem__link\" data-depth=\"3\" href=\"https://www.lechocolat-alainducasse.com/uk/chocolate-bar\">\n",
       " <span>Bars</span>\n",
       " </a>\n",
       " </li>,\n",
       " <li class=\"siteMenuItem\" data-depth=\"3\">\n",
       " <a class=\"siteMenuItem__link\" data-depth=\"3\" href=\"https://www.lechocolat-alainducasse.com/uk/simple-pleasures\">\n",
       " <span>Simple Pleasures</span>\n",
       " </a>\n",
       " </li>,\n",
       " <li class=\"siteMenuItem\" data-depth=\"3\">\n",
       " <a class=\"siteMenuItem__link\" data-depth=\"3\" href=\"https://www.lechocolat-alainducasse.com/uk/breakfast-snacks\">\n",
       " <span>Breakfast &amp; Snacks</span>\n",
       " </a>\n",
       " </li>]"
      ]
     },
     "execution_count": 13,
     "metadata": {},
     "output_type": "execute_result"
    }
   ],
   "source": [
    "li"
   ]
  },
  {
   "cell_type": "code",
   "execution_count": null,
   "metadata": {},
   "outputs": [],
   "source": [
    "if li:\n",
    "    urls = li.find_all('a', class_='siteMenuItem__link')"
   ]
  },
  {
   "cell_type": "code",
   "execution_count": 16,
   "metadata": {},
   "outputs": [],
   "source": [
    "url = \"https://www.lechocolat-alainducasse.com/uk/chocolates\"\n",
    "response = requests.get(url)\n",
    "soup = BeautifulSoup(response.content, 'html.parser')\n",
    "section = soup.find('section',class_= 'products__list')\n",
    "divs = section.find_all('div',class_= 'productMiniature')"
   ]
  },
  {
   "cell_type": "code",
   "execution_count": 20,
   "metadata": {},
   "outputs": [],
   "source": [
    "import re"
   ]
  },
  {
   "cell_type": "code",
   "execution_count": 38,
   "metadata": {},
   "outputs": [
    {
     "name": "stdout",
     "output_type": "stream",
     "text": [
      "{'title': \"Pralinés à l'Ancienne - 27 pieces - 27 pieces\", 'product_id': \"pralinés-à-l'ancienne-27-pieces-27-pieces\", 'image': 'https://www.lechocolat-alainducasse.com/uk/3340/praline-ancienne.jpg', 'price': '£40.00', 'url': 'https://www.lechocolat-alainducasse.com/uk/praline-ancienne'}\n",
      "{'title': 'Pépites box - 36 pieces - 36 pieces', 'product_id': 'pépites-box-36-pieces-36-pieces', 'image': 'https://www.lechocolat-alainducasse.com/uk/3329/pepites-box-36-pieces.jpg', 'price': '£57.00', 'url': 'https://www.lechocolat-alainducasse.com/uk/pepites-box-36-pieces'}\n",
      "{'title': 'Discovery Box - 30 pieces - 30 pieces', 'product_id': 'discovery-box-30-pieces-30-pieces', 'image': 'https://www.lechocolat-alainducasse.com/uk/3346/discovery-box-30-pieces.jpg', 'price': '£45.00', 'url': 'https://www.lechocolat-alainducasse.com/uk/discovery-box-30-pieces'}\n",
      "{'title': \"Pralinés à l'Ancienne - 39 pieces - 39 pieces\", 'product_id': \"pralinés-à-l'ancienne-39-pieces-39-pieces\", 'image': 'https://www.lechocolat-alainducasse.com/uk/3352/praline-ancienne-39-pieces.jpg', 'price': '£54.00', 'url': 'https://www.lechocolat-alainducasse.com/uk/praline-ancienne-39-pieces'}\n",
      "{'title': 'Pépites Box - 16 pieces  - Dark - 16 pieces', 'product_id': 'pépites-box-16-pieces-dark-16-pieces', 'image': 'https://www.lechocolat-alainducasse.com/uk/3320/pepites-box-dark-16-pieces.jpg', 'price': '£27.00', 'url': 'https://www.lechocolat-alainducasse.com/uk/pepites-box-dark-16-pieces'}\n",
      "{'title': 'Pépites Box - 16 pieces - Milk - 16 pieces', 'product_id': 'pépites-box-16-pieces-milk-16-pieces', 'image': 'https://www.lechocolat-alainducasse.com/uk/3321/pepites-box-milk-16-pieces.jpg', 'price': '£27.00', 'url': 'https://www.lechocolat-alainducasse.com/uk/pepites-box-milk-16-pieces'}\n",
      "{'title': 'Discovery Box - 12 pieces - 12 pieces', 'product_id': 'discovery-box-12-pieces-12-pieces', 'image': 'https://www.lechocolat-alainducasse.com/uk/3345/discovery-box-12-pieces.jpg', 'price': '£21.00', 'url': 'https://www.lechocolat-alainducasse.com/uk/discovery-box-12-pieces'}\n",
      "{'title': 'Discovery Box - 90 pieces - 90 pieces', 'product_id': 'discovery-box-90-pieces-90-pieces', 'image': 'https://www.lechocolat-alainducasse.com/uk/3343/discovery-box-90-pieces.jpg', 'price': '£128.00', 'url': 'https://www.lechocolat-alainducasse.com/uk/discovery-box-90-pieces'}\n",
      "{'title': 'Double-bites Box - 4 pieces - 4 pieces', 'product_id': 'double-bites-box-4-pieces-4-pieces', 'image': 'https://www.lechocolat-alainducasse.com/uk/3344/double-bites-box-4.jpg', 'price': '£15.00', 'url': 'https://www.lechocolat-alainducasse.com/uk/double-bites-box-4'}\n",
      "{'title': 'Single-Origin Ganaches - 30 pieces', 'product_id': 'single-origin-ganaches-30-pieces', 'image': 'https://www.lechocolat-alainducasse.com/uk/3338/single-origin-ganache-chocolate.jpg', 'price': '£42.00', 'url': 'https://www.lechocolat-alainducasse.com/uk/single-origin-ganache-chocolate'}\n",
      "{'title': 'Flavored Ganaches - 21 pieces', 'product_id': 'flavored-ganaches-21-pieces', 'image': 'https://www.lechocolat-alainducasse.com/uk/3339/flavoured-ganache.jpg', 'price': '£30.00', 'url': 'https://www.lechocolat-alainducasse.com/uk/flavoured-ganache'}\n",
      "{'title': 'Flavored Ganaches & Single-Origin Ganaches - 54 pieces', 'product_id': 'flavored-ganaches-&-single-origin-ganaches-54-pieces', 'image': 'https://www.lechocolat-alainducasse.com/uk/3336/single-origin-flavoured-ganache.jpg', 'price': '£73.00', 'url': 'https://www.lechocolat-alainducasse.com/uk/single-origin-flavoured-ganache'}\n",
      "{'title': 'Small Essentials Box', 'product_id': 'small-essentials-box', 'image': 'https://www.lechocolat-alainducasse.com/uk/3350/box-essentials-small.jpg', 'price': '£31.00', 'url': 'https://www.lechocolat-alainducasse.com/uk/box-essentials-small'}\n",
      "{'title': 'Large Essentials Box', 'product_id': 'large-essentials-box', 'image': 'https://www.lechocolat-alainducasse.com/uk/3351/box-essentials-large.jpg', 'price': '£56.00', 'url': 'https://www.lechocolat-alainducasse.com/uk/box-essentials-large'}\n",
      "{'title': 'Square Bites Box - 30 pieces - 30 pieces', 'product_id': 'square-bites-box-30-pieces-30-pieces', 'image': 'https://www.lechocolat-alainducasse.com/uk/3348/square-chocolate-bites-box-30-pieces.jpg', 'price': '£20.00', 'url': 'https://www.lechocolat-alainducasse.com/uk/square-chocolate-bites-box-30-pieces'}\n",
      "{'title': 'Square Bites Box - 50 pieces - 50 pieces', 'product_id': 'square-bites-box-50-pieces-50-pieces', 'image': 'https://www.lechocolat-alainducasse.com/uk/4254/square-bites-box-50-pieces.jpg', 'price': '£30.00', 'url': 'https://www.lechocolat-alainducasse.com/uk/square-bites-box-50-pieces'}\n",
      "{'title': 'Discovery Box - 45 pieces - 45 pieces', 'product_id': 'discovery-box-45-pieces-45-pieces', 'image': 'https://www.lechocolat-alainducasse.com/uk/3342/discovery-box-45-pieces.jpg', 'price': '£65.00', 'url': 'https://www.lechocolat-alainducasse.com/uk/discovery-box-45-pieces'}\n",
      "{'title': 'Discovery Box - 21 pieces - 21 pieces', 'product_id': 'discovery-box-21-pieces-21-pieces', 'image': 'https://www.lechocolat-alainducasse.com/uk/3334/discovery-box-21-pieces.jpg', 'price': '£32.00', 'url': 'https://www.lechocolat-alainducasse.com/uk/discovery-box-21-pieces'}\n",
      "{'title': 'Discovery Box - 58 pieces - 58 pieces', 'product_id': 'discovery-box-58-pieces-58-pieces', 'image': 'https://www.lechocolat-alainducasse.com/uk/3347/discovery-box-58-pieces.jpg', 'price': '£83.00', 'url': 'https://www.lechocolat-alainducasse.com/uk/discovery-box-58-pieces'}\n",
      "{'title': \"Single-Origin Ganaches & Pralinés à l'Ancienne - 60 pieces\", 'product_id': \"single-origin-ganaches-&-pralinés-à-l'ancienne-60-pieces\", 'image': 'https://www.lechocolat-alainducasse.com/uk/3337/single-origin-ganache-praline-ancienne.jpg', 'price': '£83.00', 'url': 'https://www.lechocolat-alainducasse.com/uk/single-origin-ganache-praline-ancienne'}\n",
      "{'title': '6 chocolate bars Box - 75% Dark & 45% Milk Chocolate', 'product_id': '6-chocolate-bars-box-75%-dark-&-45%-milk-chocolate', 'image': 'https://www.lechocolat-alainducasse.com/uk/3291/box-bars.jpg', 'price': '£56.00', 'url': 'https://www.lechocolat-alainducasse.com/uk/box-bars'}\n",
      "{'title': 'Cocorico Box 16 Pieces - 16 pieces', 'product_id': 'cocorico-box-16-pieces-16-pieces', 'image': 'https://www.lechocolat-alainducasse.com/uk/3956/coffret-cocorico-16-pepittes.jpg', 'price': '£29.00', 'url': 'https://www.lechocolat-alainducasse.com/uk/coffret-cocorico-16-pepittes'}\n",
      "{'title': \"Flavored Ganaches & Pralinés à l'Ancienne - 51 pieces\", 'product_id': \"flavored-ganaches-&-pralinés-à-l'ancienne-51-pieces\", 'image': 'https://www.lechocolat-alainducasse.com/uk/3335/ganache-flavoured-praline-ancienne.jpg', 'price': '£72.00', 'url': 'https://www.lechocolat-alainducasse.com/uk/ganache-flavoured-praline-ancienne'}\n"
     ]
    }
   ],
   "source": [
    "for div in divs:\n",
    "        product_detail = {}\n",
    "        product_detail['title'] = div['data-product-name']\n",
    "        # Convert the string to lowercase\n",
    "        lowercase_string = product_detail[\"title\"].lower()\n",
    "        # This can be done using a regular expression to handle both spaces and hyphens\n",
    "        product_detail[\"product_id\"] = re.sub(r'[ -]+', '-', lowercase_string)\n",
    "        product_detail[\"image\"] = div.find('img').get('src')\n",
    "        product_detail[\"price\"] = div.find('span',class_ = \"productMiniature__price\").text.strip()\n",
    "        product_detail[\"url\"] = div.find('a',class_= \"productMiniature__name\").get('href')\n",
    "        print(product_detail)"
   ]
  },
  {
   "cell_type": "code",
   "execution_count": 35,
   "metadata": {},
   "outputs": [
    {
     "data": {
      "text/plain": [
       "{'title': \"Flavored Ganaches & Pralinés à l'Ancienne - 51 pieces\",\n",
       " 'product_id': \"flavored-ganaches-&-pralinés-à-l'ancienne-51-pieces\",\n",
       " 'image': 'https://www.lechocolat-alainducasse.com/uk/3335/ganache-flavoured-praline-ancienne.jpg'}"
      ]
     },
     "execution_count": 35,
     "metadata": {},
     "output_type": "execute_result"
    }
   ],
   "source": [
    "product_detail"
   ]
  },
  {
   "cell_type": "code",
   "execution_count": 48,
   "metadata": {},
   "outputs": [],
   "source": [
    "response = requests.get(\"https://www.lechocolat-alainducasse.com/uk/praline-ancienne\")\n",
    "# Parse the HTML content\n",
    "soup = BeautifulSoup(response.content, 'html.parser')\n",
    "div = soup.find('div',class_= 'productDescription__text').text.strip()"
   ]
  },
  {
   "cell_type": "code",
   "execution_count": 49,
   "metadata": {},
   "outputs": [
    {
     "data": {
      "text/plain": [
       "'Our Pralinés \"à l\\'Ancienne\"\\xa0are produced ‘old fashioned-style’. These classics, with almonds and hazelnuts caramelised come in fondant and crunchy varieties. Recipes containing pistachios, peanuts or roasted coconut marry tradition and originality.\\xa0\\nThis box of 27 pieces contains 9 flavours.'"
      ]
     },
     "execution_count": 49,
     "metadata": {},
     "output_type": "execute_result"
    }
   ],
   "source": [
    "div"
   ]
  },
  {
   "cell_type": "code",
   "execution_count": 44,
   "metadata": {},
   "outputs": [],
   "source": [
    "description = div.find('strong').text"
   ]
  },
  {
   "cell_type": "code",
   "execution_count": 45,
   "metadata": {},
   "outputs": [
    {
     "data": {
      "text/plain": [
       "'Our Pralinés \"à l\\'Ancienne\"\\xa0are produced ‘old fashioned-style’'"
      ]
     },
     "execution_count": 45,
     "metadata": {},
     "output_type": "execute_result"
    }
   ],
   "source": [
    "description"
   ]
  },
  {
   "cell_type": "code",
   "execution_count": 95,
   "metadata": {},
   "outputs": [
    {
     "name": "stdout",
     "output_type": "stream",
     "text": [
      "https://www.traderjoes.com/home/products/pdp/yuzu-miso-topping-spread-077581\n",
      "https://www.traderjoes.com/home/products/pdp/apricot-cardamom-spread-078499\n",
      "https://www.traderjoes.com/home/products/pdp/crunchy-jicama-slaw-079434\n",
      "https://www.traderjoes.com/home/products/pdp/simply-amazing-soft-dried-apricots-078443\n",
      "https://www.traderjoes.com/home/products/pdp/vanilla-bean-whole-milk-greek-yogurt-078444\n",
      "https://www.traderjoes.com/home/products/pdp/carrot-mini-sheet-cake-079277\n",
      "https://www.traderjoes.com/home/products/pdp/cracker-assortment-038981\n",
      "https://www.traderjoes.com/home/products/pdp/pumpkin-butter-006372\n",
      "https://www.traderjoes.com/home/products/pdp/caesar-salad-with-white-chicken-meat-006832\n",
      "https://www.traderjoes.com/home/products/pdp/flour-tortillas-092395\n",
      "https://www.traderjoes.com/home/products/pdp/meyer-lemon-cookie-thins-092890\n",
      "https://www.traderjoes.com/home/products/pdp/pizza-seasoned-crackers-077824\n",
      "https://www.traderjoes.com/home/products/pdp/ginger-shrimp-lo-mein-075821\n",
      "https://www.traderjoes.com/home/products/pdp/gts-guava-paloma-agua-de-kefir-080076\n",
      "https://www.traderjoes.com/home/products/pdp/smoked-ghost-pepper-cheddar-cheese-078605\n",
      "Error clicking the next page button: Message: \n",
      "\n",
      "['https://www.traderjoes.com/home/products/pdp/yuzu-miso-topping-spread-077581', 'https://www.traderjoes.com/home/products/pdp/apricot-cardamom-spread-078499', 'https://www.traderjoes.com/home/products/pdp/crunchy-jicama-slaw-079434', 'https://www.traderjoes.com/home/products/pdp/simply-amazing-soft-dried-apricots-078443', 'https://www.traderjoes.com/home/products/pdp/vanilla-bean-whole-milk-greek-yogurt-078444', 'https://www.traderjoes.com/home/products/pdp/carrot-mini-sheet-cake-079277', 'https://www.traderjoes.com/home/products/pdp/cracker-assortment-038981', 'https://www.traderjoes.com/home/products/pdp/pumpkin-butter-006372', 'https://www.traderjoes.com/home/products/pdp/caesar-salad-with-white-chicken-meat-006832', 'https://www.traderjoes.com/home/products/pdp/flour-tortillas-092395', 'https://www.traderjoes.com/home/products/pdp/meyer-lemon-cookie-thins-092890', 'https://www.traderjoes.com/home/products/pdp/pizza-seasoned-crackers-077824', 'https://www.traderjoes.com/home/products/pdp/ginger-shrimp-lo-mein-075821', 'https://www.traderjoes.com/home/products/pdp/gts-guava-paloma-agua-de-kefir-080076', 'https://www.traderjoes.com/home/products/pdp/smoked-ghost-pepper-cheddar-cheese-078605']\n"
     ]
    }
   ],
   "source": [
    "import requests\n",
    "from bs4 import BeautifulSoup\n",
    "import json\n",
    "import re\n",
    "from selenium import webdriver\n",
    "from selenium.webdriver.common.by import By\n",
    "from selenium.webdriver.support.ui import WebDriverWait\n",
    "from selenium.webdriver.support import expected_conditions as EC\n",
    "from selenium.webdriver.chrome.service import Service\n",
    "from webdriver_manager.chrome import ChromeDriverManager\n",
    "import time\n",
    "from selenium.webdriver.support import expected_conditions as EC\n",
    "from selenium.common.exceptions import TimeoutException, NoSuchElementException\n",
    "\n",
    "def selenium_driver(url):\n",
    "    # Set up the webdriver\n",
    "    service = Service(ChromeDriverManager().install())\n",
    "    driver = webdriver.Chrome(service=service)\n",
    "\n",
    "    # Navigate to the Trader Joe's products page\n",
    "    driver.get(url)\n",
    "\n",
    "    # Wait for the page to load\n",
    "    time.sleep(5)\n",
    "    \n",
    "    return driver\n",
    "\n",
    "def scrape_product_urls(driver):\n",
    "    products = []\n",
    "    # product_elements = driver.find_elements(By.CLASS_NAME, 'CategoryFilter_categoryFilter__whatsNew__1nUhp').text\n",
    "    parent_element = driver.find_element(By.CLASS_NAME, 'ProductCategory_productCategory__row__2OFox')\n",
    "    product_elements = parent_element.find_elements(By.CLASS_NAME, 'ProductList_productList__item__1EIvq')\n",
    "    urls = []\n",
    "    for product in product_elements:\n",
    "        try:\n",
    "            element = product.find_element(By.CSS_SELECTOR, '.Link_link__1AZfr.ProductCard_card__img_link__2bBqA')\n",
    "            url = element.get_attribute('href')\n",
    "            urls.append(url)\n",
    "            print(url)  # Print each URL\n",
    "        except Exception as e:\n",
    "            print(f\"Error processing element: {e}\")\n",
    "            continue\n",
    "    return urls\n",
    "\n",
    "def click_next_page(driver):\n",
    "    try:\n",
    "        # Locate the next page button\n",
    "        # next_button = driver.find_element(By.CSS_SELECTOR, '.Pagination_pagination__arrow__3TJf0.Pagination_pagination__arrow_side_right__9YUGr')\n",
    "        # if next_button.is_displayed() and next_button.is_enabled():\n",
    "        #     next_button.click()\n",
    "        #     driver.refresh()\n",
    "        #     print(\"Clicked the next page button\")\n",
    "        # Wait for the cookie consent banner to disappear if present\n",
    "        # Scroll down the page by 1000 pixels\n",
    "        WebDriverWait(driver, 5).until(\n",
    "            EC.invisibility_of_element_located((By.CSS_SELECTOR, '.CookiesAlert_cookiesAlert__3qSl1'))\n",
    "        )\n",
    "        driver.execute_script(\"window.scrollBy(0, 1000);\")\n",
    "        # Find the next page button and click it\n",
    "        next_button = WebDriverWait(driver, 5).until(\n",
    "            EC.element_to_be_clickable((By.CSS_SELECTOR, '.Pagination_pagination__arrow_side_right__9YUGr'))\n",
    "        )\n",
    "        print(next_button)\n",
    "        if next_button.is_displayed() and next_button.is_enabled():\n",
    "            next_button.click()\n",
    "            driver.refresh()\n",
    "            print(\"Clicked the next page button\")\n",
    "    except Exception as e:\n",
    "        print(f\"Error clicking the next page button: {e}\")\n",
    "\n",
    "def main():\n",
    "    try:\n",
    "        project_details = []\n",
    "        product_urls = []\n",
    "        base_url = \"https://www.traderjoes.com/home/products/category/products\"\n",
    "        driver = selenium_driver(base_url)\n",
    "        while driver:\n",
    "            product_url = scrape_product_urls(driver)\n",
    "            if product_url:\n",
    "                product_urls.extend(product_url)\n",
    "            driver = click_next_page(driver)\n",
    "        print(product_urls)\n",
    "        \n",
    "        # Now you can loop through product_urls to scrape specific details\n",
    "        # for url in product_urls:\n",
    "        #     # Implement your logic to scrape specific details from each product URL\n",
    "        #     details = scrape_specific_url(url)\n",
    "        #     project_details.append(details)\n",
    "    except Exception as e:\n",
    "        raise e \n",
    "\n",
    "if __name__ == \"__main__\":\n",
    "    main()"
   ]
  },
  {
   "cell_type": "code",
   "execution_count": 88,
   "metadata": {},
   "outputs": [],
   "source": [
    "driver = selenium_driver(\"https://www.traderjoes.com/home/products/category/products\")\n",
    "next_button = driver.find_element(By.CSS_SELECTOR, '.Pagination_pagination__arrow__3TJf0.Pagination_pagination__arrow_side_right__9YUGr')"
   ]
  },
  {
   "cell_type": "code",
   "execution_count": 90,
   "metadata": {},
   "outputs": [
    {
     "data": {
      "text/plain": [
       "<selenium.webdriver.remote.webelement.WebElement (session=\"46a0d0d388921492fbb463b89b18732f\", element=\"f.1357AC38B76AFF1A357F452942E5260E.d.62F90AAC85A47804C72A99639AB612F9.e.21\")>"
      ]
     },
     "execution_count": 90,
     "metadata": {},
     "output_type": "execute_result"
    }
   ],
   "source": [
    "next_button"
   ]
  },
  {
   "cell_type": "code",
   "execution_count": 91,
   "metadata": {},
   "outputs": [
    {
     "ename": "ElementClickInterceptedException",
     "evalue": "Message: element click intercepted: Element <button class=\"Pagination_pagination__arrow__3TJf0 Pagination_pagination__arrow_side_right__9YUGr\" aria-label=\"Next page, Go to page 2\">...</button> is not clickable at point (899, 679). Other element would receive the click: <div class=\"CookiesAlert_cookiesAlert__3qSl1\">...</div>\n  (Session info: chrome=126.0.6478.127)\nStacktrace:\n0   chromedriver                        0x00000001050aaa80 chromedriver + 4385408\n1   chromedriver                        0x00000001050a338c chromedriver + 4354956\n2   chromedriver                        0x0000000104cc0b0c chromedriver + 281356\n3   chromedriver                        0x0000000104d08ce0 chromedriver + 576736\n4   chromedriver                        0x0000000104d07284 chromedriver + 569988\n5   chromedriver                        0x0000000104d05414 chromedriver + 562196\n6   chromedriver                        0x0000000104d045b0 chromedriver + 558512\n7   chromedriver                        0x0000000104cf9cfc chromedriver + 515324\n8   chromedriver                        0x0000000104cf9734 chromedriver + 513844\n9   chromedriver                        0x0000000104d3bd24 chromedriver + 785700\n10  chromedriver                        0x0000000104cf7eec chromedriver + 507628\n11  chromedriver                        0x0000000104cf88c4 chromedriver + 510148\n12  chromedriver                        0x000000010507243c chromedriver + 4154428\n13  chromedriver                        0x0000000105076ea0 chromedriver + 4173472\n14  chromedriver                        0x0000000105057ff8 chromedriver + 4046840\n15  chromedriver                        0x000000010507778c chromedriver + 4175756\n16  chromedriver                        0x000000010504afb8 chromedriver + 3993528\n17  chromedriver                        0x000000010509521c chromedriver + 4297244\n18  chromedriver                        0x0000000105095398 chromedriver + 4297624\n19  chromedriver                        0x00000001050a2f84 chromedriver + 4353924\n20  libsystem_pthread.dylib             0x000000018b42e034 _pthread_start + 136\n21  libsystem_pthread.dylib             0x000000018b428e3c thread_start + 8\n",
     "output_type": "error",
     "traceback": [
      "\u001b[0;31m---------------------------------------------------------------------------\u001b[0m",
      "\u001b[0;31mElementClickInterceptedException\u001b[0m          Traceback (most recent call last)",
      "Cell \u001b[0;32mIn[91], line 2\u001b[0m\n\u001b[1;32m      1\u001b[0m \u001b[38;5;28;01mif\u001b[39;00m next_button\u001b[38;5;241m.\u001b[39mis_displayed() \u001b[38;5;129;01mand\u001b[39;00m next_button\u001b[38;5;241m.\u001b[39mis_enabled():\n\u001b[0;32m----> 2\u001b[0m             \u001b[43mnext_button\u001b[49m\u001b[38;5;241;43m.\u001b[39;49m\u001b[43mclick\u001b[49m\u001b[43m(\u001b[49m\u001b[43m)\u001b[49m\n\u001b[1;32m      3\u001b[0m             driver\u001b[38;5;241m.\u001b[39mrefresh()\n",
      "File \u001b[0;32m~/Library/Python/3.9/lib/python/site-packages/selenium/webdriver/remote/webelement.py:94\u001b[0m, in \u001b[0;36mWebElement.click\u001b[0;34m(self)\u001b[0m\n\u001b[1;32m     92\u001b[0m \u001b[38;5;28;01mdef\u001b[39;00m \u001b[38;5;21mclick\u001b[39m(\u001b[38;5;28mself\u001b[39m) \u001b[38;5;241m-\u001b[39m\u001b[38;5;241m>\u001b[39m \u001b[38;5;28;01mNone\u001b[39;00m:\n\u001b[1;32m     93\u001b[0m \u001b[38;5;250m    \u001b[39m\u001b[38;5;124;03m\"\"\"Clicks the element.\"\"\"\u001b[39;00m\n\u001b[0;32m---> 94\u001b[0m     \u001b[38;5;28;43mself\u001b[39;49m\u001b[38;5;241;43m.\u001b[39;49m\u001b[43m_execute\u001b[49m\u001b[43m(\u001b[49m\u001b[43mCommand\u001b[49m\u001b[38;5;241;43m.\u001b[39;49m\u001b[43mCLICK_ELEMENT\u001b[49m\u001b[43m)\u001b[49m\n",
      "File \u001b[0;32m~/Library/Python/3.9/lib/python/site-packages/selenium/webdriver/remote/webelement.py:395\u001b[0m, in \u001b[0;36mWebElement._execute\u001b[0;34m(self, command, params)\u001b[0m\n\u001b[1;32m    393\u001b[0m     params \u001b[38;5;241m=\u001b[39m {}\n\u001b[1;32m    394\u001b[0m params[\u001b[38;5;124m\"\u001b[39m\u001b[38;5;124mid\u001b[39m\u001b[38;5;124m\"\u001b[39m] \u001b[38;5;241m=\u001b[39m \u001b[38;5;28mself\u001b[39m\u001b[38;5;241m.\u001b[39m_id\n\u001b[0;32m--> 395\u001b[0m \u001b[38;5;28;01mreturn\u001b[39;00m \u001b[38;5;28;43mself\u001b[39;49m\u001b[38;5;241;43m.\u001b[39;49m\u001b[43m_parent\u001b[49m\u001b[38;5;241;43m.\u001b[39;49m\u001b[43mexecute\u001b[49m\u001b[43m(\u001b[49m\u001b[43mcommand\u001b[49m\u001b[43m,\u001b[49m\u001b[43m \u001b[49m\u001b[43mparams\u001b[49m\u001b[43m)\u001b[49m\n",
      "File \u001b[0;32m~/Library/Python/3.9/lib/python/site-packages/selenium/webdriver/remote/webdriver.py:354\u001b[0m, in \u001b[0;36mWebDriver.execute\u001b[0;34m(self, driver_command, params)\u001b[0m\n\u001b[1;32m    352\u001b[0m response \u001b[38;5;241m=\u001b[39m \u001b[38;5;28mself\u001b[39m\u001b[38;5;241m.\u001b[39mcommand_executor\u001b[38;5;241m.\u001b[39mexecute(driver_command, params)\n\u001b[1;32m    353\u001b[0m \u001b[38;5;28;01mif\u001b[39;00m response:\n\u001b[0;32m--> 354\u001b[0m     \u001b[38;5;28;43mself\u001b[39;49m\u001b[38;5;241;43m.\u001b[39;49m\u001b[43merror_handler\u001b[49m\u001b[38;5;241;43m.\u001b[39;49m\u001b[43mcheck_response\u001b[49m\u001b[43m(\u001b[49m\u001b[43mresponse\u001b[49m\u001b[43m)\u001b[49m\n\u001b[1;32m    355\u001b[0m     response[\u001b[38;5;124m\"\u001b[39m\u001b[38;5;124mvalue\u001b[39m\u001b[38;5;124m\"\u001b[39m] \u001b[38;5;241m=\u001b[39m \u001b[38;5;28mself\u001b[39m\u001b[38;5;241m.\u001b[39m_unwrap_value(response\u001b[38;5;241m.\u001b[39mget(\u001b[38;5;124m\"\u001b[39m\u001b[38;5;124mvalue\u001b[39m\u001b[38;5;124m\"\u001b[39m, \u001b[38;5;28;01mNone\u001b[39;00m))\n\u001b[1;32m    356\u001b[0m     \u001b[38;5;28;01mreturn\u001b[39;00m response\n",
      "File \u001b[0;32m~/Library/Python/3.9/lib/python/site-packages/selenium/webdriver/remote/errorhandler.py:229\u001b[0m, in \u001b[0;36mErrorHandler.check_response\u001b[0;34m(self, response)\u001b[0m\n\u001b[1;32m    227\u001b[0m         alert_text \u001b[38;5;241m=\u001b[39m value[\u001b[38;5;124m\"\u001b[39m\u001b[38;5;124malert\u001b[39m\u001b[38;5;124m\"\u001b[39m]\u001b[38;5;241m.\u001b[39mget(\u001b[38;5;124m\"\u001b[39m\u001b[38;5;124mtext\u001b[39m\u001b[38;5;124m\"\u001b[39m)\n\u001b[1;32m    228\u001b[0m     \u001b[38;5;28;01mraise\u001b[39;00m exception_class(message, screen, stacktrace, alert_text)  \u001b[38;5;66;03m# type: ignore[call-arg]  # mypy is not smart enough here\u001b[39;00m\n\u001b[0;32m--> 229\u001b[0m \u001b[38;5;28;01mraise\u001b[39;00m exception_class(message, screen, stacktrace)\n",
      "\u001b[0;31mElementClickInterceptedException\u001b[0m: Message: element click intercepted: Element <button class=\"Pagination_pagination__arrow__3TJf0 Pagination_pagination__arrow_side_right__9YUGr\" aria-label=\"Next page, Go to page 2\">...</button> is not clickable at point (899, 679). Other element would receive the click: <div class=\"CookiesAlert_cookiesAlert__3qSl1\">...</div>\n  (Session info: chrome=126.0.6478.127)\nStacktrace:\n0   chromedriver                        0x00000001050aaa80 chromedriver + 4385408\n1   chromedriver                        0x00000001050a338c chromedriver + 4354956\n2   chromedriver                        0x0000000104cc0b0c chromedriver + 281356\n3   chromedriver                        0x0000000104d08ce0 chromedriver + 576736\n4   chromedriver                        0x0000000104d07284 chromedriver + 569988\n5   chromedriver                        0x0000000104d05414 chromedriver + 562196\n6   chromedriver                        0x0000000104d045b0 chromedriver + 558512\n7   chromedriver                        0x0000000104cf9cfc chromedriver + 515324\n8   chromedriver                        0x0000000104cf9734 chromedriver + 513844\n9   chromedriver                        0x0000000104d3bd24 chromedriver + 785700\n10  chromedriver                        0x0000000104cf7eec chromedriver + 507628\n11  chromedriver                        0x0000000104cf88c4 chromedriver + 510148\n12  chromedriver                        0x000000010507243c chromedriver + 4154428\n13  chromedriver                        0x0000000105076ea0 chromedriver + 4173472\n14  chromedriver                        0x0000000105057ff8 chromedriver + 4046840\n15  chromedriver                        0x000000010507778c chromedriver + 4175756\n16  chromedriver                        0x000000010504afb8 chromedriver + 3993528\n17  chromedriver                        0x000000010509521c chromedriver + 4297244\n18  chromedriver                        0x0000000105095398 chromedriver + 4297624\n19  chromedriver                        0x00000001050a2f84 chromedriver + 4353924\n20  libsystem_pthread.dylib             0x000000018b42e034 _pthread_start + 136\n21  libsystem_pthread.dylib             0x000000018b428e3c thread_start + 8\n"
     ]
    }
   ],
   "source": [
    "if next_button.is_displayed() and next_button.is_enabled():\n",
    "            next_button.click()\n",
    "            driver.refresh()"
   ]
  },
  {
   "cell_type": "code",
   "execution_count": null,
   "metadata": {},
   "outputs": [],
   "source": []
  }
 ],
 "metadata": {
  "kernelspec": {
   "display_name": "Python 3",
   "language": "python",
   "name": "python3"
  },
  "language_info": {
   "codemirror_mode": {
    "name": "ipython",
    "version": 3
   },
   "file_extension": ".py",
   "mimetype": "text/x-python",
   "name": "python",
   "nbconvert_exporter": "python",
   "pygments_lexer": "ipython3",
   "version": "3.9.6"
  }
 },
 "nbformat": 4,
 "nbformat_minor": 2
}
